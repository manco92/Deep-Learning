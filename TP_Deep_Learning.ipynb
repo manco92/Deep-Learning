{
  "cells": [
    {
      "cell_type": "code",
      "execution_count": 1,
      "metadata": {
        "id": "oJrNq6aoZJq6"
      },
      "outputs": [],
      "source": [
        "# Importo librerías\n",
        "import pandas as pd\n",
        "import numpy as np\n",
        "import matplotlib.pyplot as plt\n",
        "import torch\n",
        "from torch.utils.data import Dataset, DataLoader\n",
        "from sklearn import metrics\n",
        "from sklearn.model_selection import train_test_split\n",
        "from sklearn.linear_model import LinearRegression\n",
        "from sklearn.preprocessing import OneHotEncoder"
      ]
    },
    {
      "cell_type": "code",
      "execution_count": 2,
      "metadata": {
        "id": "AEvW-noiRIKu"
      },
      "outputs": [],
      "source": [
        "np.random.seed(1992)"
      ]
    },
    {
      "cell_type": "code",
      "execution_count": 3,
      "metadata": {
        "id": "KA42HGsGaU2k"
      },
      "outputs": [],
      "source": [
        "# Leo el archivo\n",
        "data_frame = pd.read_csv('/content/dataset_1.csv')"
      ]
    },
    {
      "cell_type": "code",
      "execution_count": 4,
      "metadata": {
        "id": "fcXZm2thi1Yh"
      },
      "outputs": [],
      "source": [
        "device = \"\"\n",
        "if torch.cuda.is_available():\n",
        "    device = 'cuda:0'\n",
        "else:\n",
        "    device = 'cpu'"
      ]
    },
    {
      "cell_type": "code",
      "execution_count": 5,
      "metadata": {
        "colab": {
          "base_uri": "https://localhost:8080/",
          "height": 36
        },
        "id": "Zd56l2Y9i2uj",
        "outputId": "a1539ece-5066-467f-8ee2-ad145dd18e4f"
      },
      "outputs": [
        {
          "output_type": "execute_result",
          "data": {
            "text/plain": [
              "'cuda:0'"
            ],
            "application/vnd.google.colaboratory.intrinsic+json": {
              "type": "string"
            }
          },
          "metadata": {},
          "execution_count": 5
        }
      ],
      "source": [
        "device"
      ]
    },
    {
      "cell_type": "markdown",
      "metadata": {
        "id": "iAcejfp0HKHb"
      },
      "source": [
        "## **PUNTO 1**"
      ]
    },
    {
      "cell_type": "code",
      "execution_count": 7,
      "metadata": {
        "id": "XRbpDmP5aU5d"
      },
      "outputs": [],
      "source": [
        "# Renombro las columnas\n",
        "data_frame = data_frame.rename(columns = {'# X': 'X'})"
      ]
    },
    {
      "cell_type": "code",
      "execution_count": 11,
      "metadata": {
        "id": "ox1YJiBLeDzn"
      },
      "outputs": [],
      "source": [
        "X_ = np.array(data_frame['X'])\n",
        "y_ = np.array(data_frame['Y'])"
      ]
    },
    {
      "cell_type": "code",
      "execution_count": 12,
      "metadata": {
        "id": "qqhMjzTjWN7w"
      },
      "outputs": [],
      "source": [
        "X_train, X_test, y_train, y_test = train_test_split(X_, y_, test_size = 0.30, random_state = 42)"
      ]
    },
    {
      "cell_type": "code",
      "execution_count": 13,
      "metadata": {
        "id": "AaziW6d2Qglm"
      },
      "outputs": [],
      "source": [
        "# Defino mi función de costo MSE\n",
        "def mse(y_truth, y_pred):\n",
        "    cant = len(y_truth)\n",
        "    r = np.sum([(y_truth[i] - y_pred[i])**2 for i in range(cant)])/cant\n",
        "    return r"
      ]
    },
    {
      "cell_type": "code",
      "execution_count": 14,
      "metadata": {
        "id": "peS8QYq-QoTv"
      },
      "outputs": [],
      "source": [
        "alpha = 0.0000001\n",
        "n_epochs = 500\n",
        "loss_train = []\n",
        "loss_test = []\n",
        "\n",
        "# Inicializo variables\n",
        "w1, w2, b = np.random.uniform(0, 1, 3)\n",
        "\n",
        "for epoch in range(n_epochs):\n",
        "\n",
        "  ##################\n",
        "  #### TRAINING ####\n",
        "  ##################\n",
        "\n",
        "  y_hat_acum = []\n",
        "\n",
        "  X = X_train\n",
        "  y = y_train\n",
        "\n",
        "  # Inicializo variables\n",
        "  #w1, w2, b = np.random.uniform(0, 1, 3)\n",
        "\n",
        "  for i in range(len(X)):\n",
        "        \n",
        "      #FORWARD\n",
        "      y_hat = w1 * X[i]**3 + w2 * X[i]**2 + w1 * X[i] + b\n",
        "\n",
        "      #ERROR\n",
        "      error = y[i] - y_hat\n",
        "\n",
        "      #BACKPROPAGATION\n",
        "      w1 = w1 - alpha * (-2 * error * (X[i]**3 + X[i]))\n",
        "      w2 = w2 - alpha * (-2 * error * X[i]**2)\n",
        "      b = b - alpha * (-2 * error)\n",
        "\n",
        "  # ACUMULO LAS PREDICCIONES\n",
        "  y_hat_acum = w1 * X**3 + w2 * X**2 + w1 * X + b\n",
        "\n",
        "  #MSE\n",
        "  loss_train.append(mse(y, y_hat_acum))\n",
        "\n",
        "  ##################\n",
        "  ### VALIDACIÓN ###\n",
        "  ##################\n",
        "\n",
        "  y_hat_acum = []\n",
        "\n",
        "  X = X_test\n",
        "  y = y_test\n",
        "        \n",
        "  # ACUMULO LAS PREDICCIONES\n",
        "  y_hat_acum = w1 * X**3 + w2 * X**2 + w1 * X + b\n",
        "\n",
        "  #MSE\n",
        "  loss_test.append(mse(y, y_hat_acum))"
      ]
    },
    {
      "cell_type": "code",
      "execution_count": 15,
      "metadata": {
        "colab": {
          "base_uri": "https://localhost:8080/",
          "height": 279
        },
        "id": "ST5e1HKzUXGQ",
        "outputId": "9a41f357-d7e9-4ebf-f043-1e565309193c"
      },
      "outputs": [
        {
          "output_type": "display_data",
          "data": {
            "text/plain": [
              "<Figure size 432x288 with 1 Axes>"
            ],
            "image/png": "[encoded data removed]"
          },
          "metadata": {
            "needs_background": "light"
          }
        }
      ],
      "source": [
        "# Grafico el error en train y en test\n",
        "epochs = np.arange(n_epochs)\n",
        "plt.plot(epochs, loss_train, linewidth = 1)\n",
        "plt.plot(epochs, loss_test, linewidth = 1)\n",
        "plt.xlabel('epoch')\n",
        "plt.ylabel('mse')\n",
        "plt.show()"
      ]
    },
    {
      "cell_type": "markdown",
      "metadata": {
        "id": "HtSeZVpSfsFl"
      },
      "source": [
        "Acá vemos el error en entrenamiento (azul) en y en validación (naranja). Los errores dan muy parecidos y convergen a un valor cercano a cero, por lo que no hay indicios de overfitting."
      ]
    },
    {
      "cell_type": "code",
      "execution_count": 16,
      "metadata": {
        "id": "aEW5oiA4eJx-"
      },
      "outputs": [],
      "source": [
        "# Calculo predicciones\n",
        "preds = w1 * X_**3 + w2 * X_**2 + w1 * X_ + b"
      ]
    },
    {
      "cell_type": "code",
      "execution_count": 17,
      "metadata": {
        "colab": {
          "base_uri": "https://localhost:8080/",
          "height": 265
        },
        "id": "QefvNZeoQoWn",
        "outputId": "a72a992a-30ee-4de4-c575-478ae10367c6"
      },
      "outputs": [
        {
          "output_type": "display_data",
          "data": {
            "text/plain": [
              "<Figure size 432x288 with 1 Axes>"
            ],
            "image/png": "[encoded data removed]"
          },
          "metadata": {
            "needs_background": "light"
          }
        }
      ],
      "source": [
        "# Grafico la curva real y el modelo\n",
        "plt.scatter(X_, y_, s = 1)\n",
        "plt.scatter(X_, preds, s = 1)\n",
        "plt.show()"
      ]
    },
    {
      "cell_type": "markdown",
      "metadata": {
        "id": "82sE33mgeujm"
      },
      "source": [
        "El modelo propuesto no ajusta bien, es demasiado rígido."
      ]
    },
    {
      "cell_type": "markdown",
      "metadata": {
        "id": "F3V7K_znipld"
      },
      "source": [
        "## **PUNTO 2**"
      ]
    },
    {
      "cell_type": "code",
      "execution_count": 18,
      "metadata": {
        "id": "K0B7KAHGByuo"
      },
      "outputs": [],
      "source": [
        "class MyDataset(Dataset):\n",
        "    \n",
        "    def __init__(self, X, y):\n",
        "        self.X = X\n",
        "        self.y = y\n",
        "        \n",
        "    def __len__(self):\n",
        "        return self.X.shape[0]\n",
        "    \n",
        "    def __getitem__(self, idx):\n",
        "        return self.X[idx], self.y[idx]"
      ]
    },
    {
      "cell_type": "code",
      "execution_count": 19,
      "metadata": {
        "id": "SKFN0jc8Z6Bi"
      },
      "outputs": [],
      "source": [
        "X_train = X_train.reshape(-1,1)\n",
        "X_test = X_test.reshape(-1,1)"
      ]
    },
    {
      "cell_type": "code",
      "execution_count": 20,
      "metadata": {
        "id": "PDroUBWKVATC"
      },
      "outputs": [],
      "source": [
        "train_ds = MyDataset(X_train, y_train)\n",
        "test_ds = MyDataset(X_test, y_test)"
      ]
    },
    {
      "cell_type": "code",
      "execution_count": 21,
      "metadata": {
        "id": "YI8pa-6UVLbW"
      },
      "outputs": [],
      "source": [
        "train_dataloader = DataLoader(train_ds, batch_size = 64, shuffle = True)\n",
        "test_dataloader = DataLoader(test_ds, batch_size = 64, shuffle = True)"
      ]
    },
    {
      "cell_type": "code",
      "execution_count": 22,
      "metadata": {
        "id": "FDZ_0rtBIfVT"
      },
      "outputs": [],
      "source": [
        "class NNet(torch.nn.Module):\n",
        "\n",
        "    def __init__(self):\n",
        "        super().__init__()\n",
        "        self.linear_1 = torch.nn.Linear(in_features = 1, out_features = 1000, bias = True)\n",
        "        self.sigmoid_1 = torch.nn.Sigmoid()\n",
        "        self.linear_2 = torch.nn.Linear(in_features = 1000, out_features = 500, bias = True)\n",
        "        self.sigmoid_2 = torch.nn.Sigmoid()\n",
        "        self.linear_3 = torch.nn.Linear(in_features = 500, out_features = 300, bias = True)\n",
        "        self.sigmoid_3 = torch.nn.Sigmoid()\n",
        "        self.output = torch.nn.Linear(in_features = 300, out_features = 1, bias = True)\n",
        "\n",
        "    def forward(self, x):\n",
        "        x = self.linear_1(x)\n",
        "        x = self.sigmoid_1(x)\n",
        "        x = self.linear_2(x)\n",
        "        x = self.sigmoid_2(x)\n",
        "        x = self.linear_3(x)\n",
        "        x = self.sigmoid_3(x)\n",
        "        x = self.output(x)\n",
        "        return x"
      ]
    },
    {
      "cell_type": "code",
      "execution_count": 23,
      "metadata": {
        "id": "DiTePFtdK9wz"
      },
      "outputs": [],
      "source": [
        "nnet = NNet()"
      ]
    },
    {
      "cell_type": "code",
      "execution_count": 24,
      "metadata": {
        "id": "giNN1BCWIfYj"
      },
      "outputs": [],
      "source": [
        "loss_function = torch.nn.MSELoss(reduction = 'sum')"
      ]
    },
    {
      "cell_type": "code",
      "execution_count": 25,
      "metadata": {
        "id": "vcoch6zSLDdg"
      },
      "outputs": [],
      "source": [
        "lr = 0.0005\n",
        "ep = 800\n",
        "optimizer = torch.optim.Adam(nnet.parameters(), lr = lr)\n",
        "\n",
        "nnet.to(device)\n",
        "\n",
        "loss_train = []\n",
        "loss_test = []\n",
        "\n",
        "train_loss_by_epoch = []\n",
        "test_loss_by_epoch = []\n",
        "\n",
        "for epoch in range(ep):\n",
        "\n",
        "    ###################################################\n",
        "    #### ENTRENAMIENTO\n",
        "    ###################################################\n",
        "    \n",
        "    nnet.train(True)\n",
        "\n",
        "    train_epoch_loss = 0\n",
        "    \n",
        "    for i, data in enumerate(train_dataloader):\n",
        "        \n",
        "        # obtener datos del batch\n",
        "        X_batch, y_batch = data\n",
        "        X_batch = X_batch.to(device).float()\n",
        "        y_batch = y_batch.to(device).float()\n",
        "        \n",
        "        # forward\n",
        "        optimizer.zero_grad()\n",
        "        nnet_output = nnet(X_batch)\n",
        "        y_batch = y_batch.reshape(-1, 1)\n",
        "        \n",
        "        # backpropagation\n",
        "        loss = loss_function(nnet_output, y_batch)\n",
        "        loss.backward()\n",
        "        \n",
        "        # actualizo parámetros\n",
        "        optimizer.step()\n",
        "\n",
        "        # acumular el loss\n",
        "        train_epoch_loss = train_epoch_loss + loss.item()\n",
        "\n",
        "    # epoch_loss -> tengo acumulado el error de todo el dataset en un epoch\n",
        "    train_loss_by_epoch.append(train_epoch_loss / len(train_ds))\n",
        "        \n",
        "    ###################################################\n",
        "    #### VALIDACIÓN\n",
        "    ###################################################\n",
        "\n",
        "    nnet.train(False)\n",
        "\n",
        "    test_epoch_loss = 0\n",
        "\n",
        "    for i, data in enumerate(test_dataloader):\n",
        "\n",
        "        # obtener los datos del batch\n",
        "        X_batch, y_batch = data\n",
        "        X_batch = X_batch.to(device).float()\n",
        "        y_batch = y_batch.to(device).float()\n",
        "\n",
        "        # forward\n",
        "        optimizer.zero_grad()\n",
        "        nnet_output = nnet(X_batch)\n",
        "        y_batch = y_batch.reshape(-1, 1)\n",
        "\n",
        "        # compute loss\n",
        "        loss = loss_function(nnet_output, y_batch)\n",
        "\n",
        "        # acumular el loss\n",
        "        test_epoch_loss = test_epoch_loss + loss.item() \n",
        "\n",
        "    # epoch_loss -> tengo acumulado el error de todo el dataset en un epoch\n",
        "    test_loss_by_epoch.append(test_epoch_loss / len(test_ds))"
      ]
    },
    {
      "cell_type": "code",
      "execution_count": 26,
      "metadata": {
        "id": "I8dRbG_pIffL",
        "colab": {
          "base_uri": "https://localhost:8080/",
          "height": 265
        },
        "outputId": "bf6a3289-5d79-4507-d712-5487f4c82b37"
      },
      "outputs": [
        {
          "output_type": "display_data",
          "data": {
            "text/plain": [
              "<Figure size 432x288 with 1 Axes>"
            ],
            "image/png": "[encoded data removed]"
          },
          "metadata": {
            "needs_background": "light"
          }
        }
      ],
      "source": [
        "# Grafico el MSE en training y en test\n",
        "x_epoch = np.arange(ep)\n",
        "plt.plot(x_epoch, train_loss_by_epoch)\n",
        "plt.plot(x_epoch, test_loss_by_epoch)\n",
        "plt.show()"
      ]
    },
    {
      "cell_type": "code",
      "execution_count": 27,
      "metadata": {
        "id": "5mp0e1V0SpFo",
        "colab": {
          "base_uri": "https://localhost:8080/"
        },
        "outputId": "175fa213-bde1-4b5b-9c10-5e8e9a0863f2"
      },
      "outputs": [
        {
          "output_type": "stream",
          "name": "stdout",
          "text": [
            "4.448180238250643e-05\n",
            "0.00012310619823013743\n"
          ]
        }
      ],
      "source": [
        "# Muestro los errores en train y test\n",
        "print(train_loss_by_epoch[-1])\n",
        "print(test_loss_by_epoch[-1])"
      ]
    },
    {
      "cell_type": "code",
      "execution_count": 28,
      "metadata": {
        "id": "MUTMQKsB1Pgc"
      },
      "outputs": [],
      "source": [
        "# Calculo predicciones\n",
        "preds = nnet(torch.tensor(X_).to(device).float().reshape(-1,1))"
      ]
    },
    {
      "cell_type": "code",
      "execution_count": 29,
      "metadata": {
        "id": "mzkpu7Kk1U4E",
        "colab": {
          "base_uri": "https://localhost:8080/",
          "height": 265
        },
        "outputId": "644ddca3-ee81-481e-b756-1b920c03efcd"
      },
      "outputs": [
        {
          "output_type": "display_data",
          "data": {
            "text/plain": [
              "<Figure size 432x288 with 1 Axes>"
            ],
            "image/png": "[encoded data removed]"
          },
          "metadata": {
            "needs_background": "light"
          }
        }
      ],
      "source": [
        "# Grafico la curva real y el modelo\n",
        "plt.scatter(X_, y_, s = 1)\n",
        "plt.scatter(X_, preds.cpu().detach().numpy(), s = 1)\n",
        "plt.show()"
      ]
    },
    {
      "cell_type": "markdown",
      "metadata": {
        "id": "JJaHfXgdlW7z"
      },
      "source": [
        "Intenté, mediante una red de 3 capas ocultas con 1000, 500 y 300 neuronas respectivamente, sobreajustar el modelo, pero es imposible porque los datos fueron generados con una función que el modelo encontró perfectamente bien. Puedo determinar que no hay overfitting porque el error en train y en test son casi 0, y el error en test nunca se alejó ni subió en ningún momento, sino que convergió a cero junto con el error de entrenamiento."
      ]
    },
    {
      "cell_type": "markdown",
      "metadata": {
        "id": "Sgkbr4zXF78R"
      },
      "source": [
        "Sin embargo, si no quiero un modelo que se ajuste tan bien a la curva, puedo rigidizarlo agregándole un término a la función de costo. El caso que está implementado en torch es la regresión Ridge (L2), y se setea con el parámetro weight_decay."
      ]
    },
    {
      "cell_type": "code",
      "execution_count": 30,
      "metadata": {
        "id": "GkCkyJF4F78R"
      },
      "outputs": [],
      "source": [
        "nnet = NNet()\n",
        "loss_function = torch.nn.MSELoss(reduction = 'sum')\n",
        "\n",
        "lr = 0.005\n",
        "ep = 200\n",
        "optimizer = torch.optim.Adam(nnet.parameters(), lr = lr, weight_decay = 0.05)\n",
        "\n",
        "nnet.to(device)\n",
        "\n",
        "loss_train = []\n",
        "loss_test = []\n",
        "\n",
        "train_loss_by_epoch = []\n",
        "test_loss_by_epoch = []\n",
        "\n",
        "for epoch in range(ep):\n",
        "\n",
        "    ###################################################\n",
        "    #### ENTRENAMIENTO\n",
        "    ###################################################\n",
        "    \n",
        "    nnet.train(True)\n",
        "\n",
        "    train_epoch_loss = 0\n",
        "    \n",
        "    for i, data in enumerate(train_dataloader):\n",
        "        \n",
        "        # obtener datos del batch\n",
        "        X_batch, y_batch = data\n",
        "        X_batch = X_batch.to(device).float()\n",
        "        y_batch = y_batch.to(device).float()\n",
        "        \n",
        "        # forward\n",
        "        optimizer.zero_grad()\n",
        "        nnet_output = nnet(X_batch)\n",
        "        y_batch = y_batch.reshape(-1, 1)\n",
        "        \n",
        "        # backpropagation\n",
        "        loss = loss_function(nnet_output, y_batch)\n",
        "        loss.backward()\n",
        "        \n",
        "        # actualizo parámetros\n",
        "        optimizer.step()\n",
        "\n",
        "        # acumular el loss\n",
        "        train_epoch_loss = train_epoch_loss + loss.item()\n",
        "\n",
        "    # epoch_loss -> tengo acumulado el error de todo el dataset en un epoch\n",
        "    train_loss_by_epoch.append(train_epoch_loss / len(train_ds))\n",
        "        \n",
        "    ###################################################\n",
        "    #### VALIDACIÓN\n",
        "    ###################################################\n",
        "\n",
        "    nnet.train(False)\n",
        "\n",
        "    test_epoch_loss = 0\n",
        "\n",
        "    for i, data in enumerate(test_dataloader):\n",
        "\n",
        "        # obtener los datos del batch\n",
        "        X_batch, y_batch = data\n",
        "        X_batch = X_batch.to(device).float()\n",
        "        y_batch = y_batch.to(device).float()\n",
        "\n",
        "        # forward\n",
        "        optimizer.zero_grad()\n",
        "        nnet_output = nnet(X_batch)\n",
        "        y_batch = y_batch.reshape(-1, 1)\n",
        "\n",
        "        # compute loss\n",
        "        loss = loss_function(nnet_output, y_batch)\n",
        "\n",
        "        # acumular el loss\n",
        "        test_epoch_loss = test_epoch_loss + loss.item() \n",
        "\n",
        "    # epoch_loss -> tengo acumulado el error de todo el dataset en un epoch\n",
        "    test_loss_by_epoch.append(test_epoch_loss / len(test_ds))"
      ]
    },
    {
      "cell_type": "code",
      "execution_count": 31,
      "metadata": {
        "colab": {
          "base_uri": "https://localhost:8080/",
          "height": 265
        },
        "id": "0Ee18Kc4F78R",
        "outputId": "64817892-d9ac-4c82-ff73-047003c50bcf"
      },
      "outputs": [
        {
          "output_type": "display_data",
          "data": {
            "text/plain": [
              "<Figure size 432x288 with 1 Axes>"
            ],
            "image/png": "[encoded data removed]"
          },
          "metadata": {
            "needs_background": "light"
          }
        }
      ],
      "source": [
        "# Grafico el MSE en training y en test\n",
        "x_epoch = np.arange(ep)\n",
        "plt.plot(x_epoch, train_loss_by_epoch)\n",
        "plt.plot(x_epoch, test_loss_by_epoch)\n",
        "plt.show()"
      ]
    },
    {
      "cell_type": "code",
      "execution_count": 32,
      "metadata": {
        "colab": {
          "base_uri": "https://localhost:8080/"
        },
        "id": "hqs9sghoF78R",
        "outputId": "b1f748cf-e404-4818-cff1-1347c3274867"
      },
      "outputs": [
        {
          "output_type": "stream",
          "name": "stdout",
          "text": [
            "0.10301957086154392\n",
            "0.09317453519503276\n"
          ]
        }
      ],
      "source": [
        "# Muestro los errores en train y test\n",
        "print(train_loss_by_epoch[-1])\n",
        "print(test_loss_by_epoch[-1])"
      ]
    },
    {
      "cell_type": "code",
      "execution_count": 33,
      "metadata": {
        "id": "hRtHOJKCF78S"
      },
      "outputs": [],
      "source": [
        "# Calculo predicciones\n",
        "preds = nnet(torch.tensor(X_).to(device).float().reshape(-1,1))"
      ]
    },
    {
      "cell_type": "code",
      "execution_count": 34,
      "metadata": {
        "colab": {
          "base_uri": "https://localhost:8080/",
          "height": 265
        },
        "id": "XmgagLs4F78S",
        "outputId": "2485b768-aef2-40fd-8e15-e31aad0755e4"
      },
      "outputs": [
        {
          "output_type": "display_data",
          "data": {
            "text/plain": [
              "<Figure size 432x288 with 1 Axes>"
            ],
            "image/png": "[encoded data removed]"
          },
          "metadata": {
            "needs_background": "light"
          }
        }
      ],
      "source": [
        "# Grafico la curva real y el modelo\n",
        "plt.scatter(X_, y_, s = 1)\n",
        "plt.scatter(X_, preds.cpu().detach().numpy(), s = 1)\n",
        "plt.show()"
      ]
    },
    {
      "cell_type": "markdown",
      "metadata": {
        "id": "dfZ3m51FmfA8"
      },
      "source": [
        "Probé varios modelos agregando ruido al dataset para que le cueste más ajustar, pero al tomar tantos datos para el entrenamiento, el error agregado no le molesta al modelo, y sigue prediciendo muy bien. Por lo tanto, si quisiera lograr un sobreajuste con este dataset, se podría entrenar con pocos datos (por ejemplo el 10%), y testear en el 90% restante."
      ]
    },
    {
      "cell_type": "markdown",
      "metadata": {
        "id": "4lGQCMkZborz"
      },
      "source": [
        "## **PUNTO 3**"
      ]
    },
    {
      "cell_type": "code",
      "execution_count": 190,
      "metadata": {
        "id": "AJSOmdmeSpS3"
      },
      "outputs": [],
      "source": [
        "data_frame2 = pd.read_csv('/content/dataset_2.csv')"
      ]
    },
    {
      "cell_type": "code",
      "execution_count": 191,
      "metadata": {
        "id": "Sb3zkFJfF78V"
      },
      "outputs": [],
      "source": [
        "def over_9000(x):\n",
        "    if x >= 9000:\n",
        "        r = 1\n",
        "    else:\n",
        "        r = 0\n",
        "    return r    "
      ]
    },
    {
      "cell_type": "code",
      "execution_count": 192,
      "metadata": {
        "id": "FIqqxvgpF78V"
      },
      "outputs": [],
      "source": [
        "data_frame2['Label'] = data_frame2['Purchase'].apply(over_9000)"
      ]
    },
    {
      "cell_type": "code",
      "execution_count": 193,
      "metadata": {
        "id": "mpCHmj8cF78W"
      },
      "outputs": [],
      "source": [
        "data_frame2 = data_frame2.drop('Purchase', axis = 1)"
      ]
    },
    {
      "cell_type": "code",
      "execution_count": 194,
      "metadata": {
        "colab": {
          "base_uri": "https://localhost:8080/"
        },
        "id": "ZpCn9hfuF78W",
        "outputId": "fd51e30a-7c8f-4bd8-eb9f-60cfa9db5644"
      },
      "outputs": [
        {
          "output_type": "execute_result",
          "data": {
            "text/plain": [
              "5891"
            ]
          },
          "metadata": {},
          "execution_count": 194
        }
      ],
      "source": [
        "len(np.unique(data_frame2['User_ID']))"
      ]
    },
    {
      "cell_type": "code",
      "execution_count": 195,
      "metadata": {
        "colab": {
          "base_uri": "https://localhost:8080/"
        },
        "id": "qV_Gm_xIF78W",
        "outputId": "b5ad0486-d611-4ccf-9ad0-5a5192828b45"
      },
      "outputs": [
        {
          "output_type": "execute_result",
          "data": {
            "text/plain": [
              "3631"
            ]
          },
          "metadata": {},
          "execution_count": 195
        }
      ],
      "source": [
        "len(np.unique(data_frame2['Product_ID']))"
      ]
    },
    {
      "cell_type": "code",
      "execution_count": 196,
      "metadata": {
        "colab": {
          "base_uri": "https://localhost:8080/",
          "height": 626
        },
        "id": "ZUajtUgYF78W",
        "outputId": "9f7d5535-89c2-470f-9bff-93ac01d745f3"
      },
      "outputs": [
        {
          "output_type": "execute_result",
          "data": {
            "text/plain": [
              "        User_ID Product_ID Gender    Age  Occupation City_Category  \\\n",
              "0       1000001  P00069042      F   0-17          10             A   \n",
              "1       1000001  P00248942      F   0-17          10             A   \n",
              "2       1000001  P00087842      F   0-17          10             A   \n",
              "3       1000001  P00085442      F   0-17          10             A   \n",
              "4       1000002  P00285442      M    55+          16             C   \n",
              "...         ...        ...    ...    ...         ...           ...   \n",
              "550063  1006033  P00372445      M  51-55          13             B   \n",
              "550064  1006035  P00375436      F  26-35           1             C   \n",
              "550065  1006036  P00375436      F  26-35          15             B   \n",
              "550066  1006038  P00375436      F    55+           1             C   \n",
              "550067  1006039  P00371644      F  46-50           0             B   \n",
              "\n",
              "       Stay_In_Current_City_Years  Marital_Status  Product_Category_1  \\\n",
              "0                               2               0                   3   \n",
              "1                               2               0                   1   \n",
              "2                               2               0                  12   \n",
              "3                               2               0                  12   \n",
              "4                              4+               0                   8   \n",
              "...                           ...             ...                 ...   \n",
              "550063                          1               1                  20   \n",
              "550064                          3               0                  20   \n",
              "550065                         4+               1                  20   \n",
              "550066                          2               0                  20   \n",
              "550067                         4+               1                  20   \n",
              "\n",
              "        Product_Category_2  Product_Category_3  Label  \n",
              "0                      NaN                 NaN      0  \n",
              "1                      6.0                14.0      1  \n",
              "2                      NaN                 NaN      0  \n",
              "3                     14.0                 NaN      0  \n",
              "4                      NaN                 NaN      0  \n",
              "...                    ...                 ...    ...  \n",
              "550063                 NaN                 NaN      0  \n",
              "550064                 NaN                 NaN      0  \n",
              "550065                 NaN                 NaN      0  \n",
              "550066                 NaN                 NaN      0  \n",
              "550067                 NaN                 NaN      0  \n",
              "\n",
              "[550068 rows x 12 columns]"
            ],
            "text/html": [
              "\n",
              "  <div id=\"df-b4669f79-7d44-4dec-ae0a-c6e125275d71\">\n",
              "    <div class=\"colab-df-container\">\n",
              "      <div>\n",
              "<style scoped>\n",
              "    .dataframe tbody tr th:only-of-type {\n",
              "        vertical-align: middle;\n",
              "    }\n",
              "\n",
              "    .dataframe tbody tr th {\n",
              "        vertical-align: top;\n",
              "    }\n",
              "\n",
              "    .dataframe thead th {\n",
              "        text-align: right;\n",
              "    }\n",
              "</style>\n",
              "<table border=\"1\" class=\"dataframe\">\n",
              "  <thead>\n",
              "    <tr style=\"text-align: right;\">\n",
              "      <th></th>\n",
              "      <th>User_ID</th>\n",
              "      <th>Product_ID</th>\n",
              "      <th>Gender</th>\n",
              "      <th>Age</th>\n",
              "      <th>Occupation</th>\n",
              "      <th>City_Category</th>\n",
              "      <th>Stay_In_Current_City_Years</th>\n",
              "      <th>Marital_Status</th>\n",
              "      <th>Product_Category_1</th>\n",
              "      <th>Product_Category_2</th>\n",
              "      <th>Product_Category_3</th>\n",
              "      <th>Label</th>\n",
              "    </tr>\n",
              "  </thead>\n",
              "  <tbody>\n",
              "    <tr>\n",
              "      <th>0</th>\n",
              "      <td>1000001</td>\n",
              "      <td>P00069042</td>\n",
              "      <td>F</td>\n",
              "      <td>0-17</td>\n",
              "      <td>10</td>\n",
              "      <td>A</td>\n",
              "      <td>2</td>\n",
              "      <td>0</td>\n",
              "      <td>3</td>\n",
              "      <td>NaN</td>\n",
              "      <td>NaN</td>\n",
              "      <td>0</td>\n",
              "    </tr>\n",
              "    <tr>\n",
              "      <th>1</th>\n",
              "      <td>1000001</td>\n",
              "      <td>P00248942</td>\n",
              "      <td>F</td>\n",
              "      <td>0-17</td>\n",
              "      <td>10</td>\n",
              "      <td>A</td>\n",
              "      <td>2</td>\n",
              "      <td>0</td>\n",
              "      <td>1</td>\n",
              "      <td>6.0</td>\n",
              "      <td>14.0</td>\n",
              "      <td>1</td>\n",
              "    </tr>\n",
              "    <tr>\n",
              "      <th>2</th>\n",
              "      <td>1000001</td>\n",
              "      <td>P00087842</td>\n",
              "      <td>F</td>\n",
              "      <td>0-17</td>\n",
              "      <td>10</td>\n",
              "      <td>A</td>\n",
              "      <td>2</td>\n",
              "      <td>0</td>\n",
              "      <td>12</td>\n",
              "      <td>NaN</td>\n",
              "      <td>NaN</td>\n",
              "      <td>0</td>\n",
              "    </tr>\n",
              "    <tr>\n",
              "      <th>3</th>\n",
              "      <td>1000001</td>\n",
              "      <td>P00085442</td>\n",
              "      <td>F</td>\n",
              "      <td>0-17</td>\n",
              "      <td>10</td>\n",
              "      <td>A</td>\n",
              "      <td>2</td>\n",
              "      <td>0</td>\n",
              "      <td>12</td>\n",
              "      <td>14.0</td>\n",
              "      <td>NaN</td>\n",
              "      <td>0</td>\n",
              "    </tr>\n",
              "    <tr>\n",
              "      <th>4</th>\n",
              "      <td>1000002</td>\n",
              "      <td>P00285442</td>\n",
              "      <td>M</td>\n",
              "      <td>55+</td>\n",
              "      <td>16</td>\n",
              "      <td>C</td>\n",
              "      <td>4+</td>\n",
              "      <td>0</td>\n",
              "      <td>8</td>\n",
              "      <td>NaN</td>\n",
              "      <td>NaN</td>\n",
              "      <td>0</td>\n",
              "    </tr>\n",
              "    <tr>\n",
              "      <th>...</th>\n",
              "      <td>...</td>\n",
              "      <td>...</td>\n",
              "      <td>...</td>\n",
              "      <td>...</td>\n",
              "      <td>...</td>\n",
              "      <td>...</td>\n",
              "      <td>...</td>\n",
              "      <td>...</td>\n",
              "      <td>...</td>\n",
              "      <td>...</td>\n",
              "      <td>...</td>\n",
              "      <td>...</td>\n",
              "    </tr>\n",
              "    <tr>\n",
              "      <th>550063</th>\n",
              "      <td>1006033</td>\n",
              "      <td>P00372445</td>\n",
              "      <td>M</td>\n",
              "      <td>51-55</td>\n",
              "      <td>13</td>\n",
              "      <td>B</td>\n",
              "      <td>1</td>\n",
              "      <td>1</td>\n",
              "      <td>20</td>\n",
              "      <td>NaN</td>\n",
              "      <td>NaN</td>\n",
              "      <td>0</td>\n",
              "    </tr>\n",
              "    <tr>\n",
              "      <th>550064</th>\n",
              "      <td>1006035</td>\n",
              "      <td>P00375436</td>\n",
              "      <td>F</td>\n",
              "      <td>26-35</td>\n",
              "      <td>1</td>\n",
              "      <td>C</td>\n",
              "      <td>3</td>\n",
              "      <td>0</td>\n",
              "      <td>20</td>\n",
              "      <td>NaN</td>\n",
              "      <td>NaN</td>\n",
              "      <td>0</td>\n",
              "    </tr>\n",
              "    <tr>\n",
              "      <th>550065</th>\n",
              "      <td>1006036</td>\n",
              "      <td>P00375436</td>\n",
              "      <td>F</td>\n",
              "      <td>26-35</td>\n",
              "      <td>15</td>\n",
              "      <td>B</td>\n",
              "      <td>4+</td>\n",
              "      <td>1</td>\n",
              "      <td>20</td>\n",
              "      <td>NaN</td>\n",
              "      <td>NaN</td>\n",
              "      <td>0</td>\n",
              "    </tr>\n",
              "    <tr>\n",
              "      <th>550066</th>\n",
              "      <td>1006038</td>\n",
              "      <td>P00375436</td>\n",
              "      <td>F</td>\n",
              "      <td>55+</td>\n",
              "      <td>1</td>\n",
              "      <td>C</td>\n",
              "      <td>2</td>\n",
              "      <td>0</td>\n",
              "      <td>20</td>\n",
              "      <td>NaN</td>\n",
              "      <td>NaN</td>\n",
              "      <td>0</td>\n",
              "    </tr>\n",
              "    <tr>\n",
              "      <th>550067</th>\n",
              "      <td>1006039</td>\n",
              "      <td>P00371644</td>\n",
              "      <td>F</td>\n",
              "      <td>46-50</td>\n",
              "      <td>0</td>\n",
              "      <td>B</td>\n",
              "      <td>4+</td>\n",
              "      <td>1</td>\n",
              "      <td>20</td>\n",
              "      <td>NaN</td>\n",
              "      <td>NaN</td>\n",
              "      <td>0</td>\n",
              "    </tr>\n",
              "  </tbody>\n",
              "</table>\n",
              "<p>550068 rows × 12 columns</p>\n",
              "</div>\n",
              "      <button class=\"colab-df-convert\" onclick=\"convertToInteractive('df-b4669f79-7d44-4dec-ae0a-c6e125275d71')\"\n",
              "              title=\"Convert this dataframe to an interactive table.\"\n",
              "              style=\"display:none;\">\n",
              "        \n",
              "  <svg xmlns=\"http://www.w3.org/2000/svg\" height=\"24px\"viewBox=\"0 0 24 24\"\n",
              "       width=\"24px\">\n",
              "    <path d=\"M0 0h24v24H0V0z\" fill=\"none\"/>\n",
              "    <path d=\"M18.56 5.44l.94 2.06.94-2.06 2.06-.94-2.06-.94-.94-2.06-.94 2.06-2.06.94zm-11 1L8.5 8.5l.94-2.06 2.06-.94-2.06-.94L8.5 2.5l-.94 2.06-2.06.94zm10 10l.94 2.06.94-2.06 2.06-.94-2.06-.94-.94-2.06-.94 2.06-2.06.94z\"/><path d=\"M17.41 7.96l-1.37-1.37c-.4-.4-.92-.59-1.43-.59-.52 0-1.04.2-1.43.59L10.3 9.45l-7.72 7.72c-.78.78-.78 2.05 0 2.83L4 21.41c.39.39.9.59 1.41.59.51 0 1.02-.2 1.41-.59l7.78-7.78 2.81-2.81c.8-.78.8-2.07 0-2.86zM5.41 20L4 18.59l7.72-7.72 1.47 1.35L5.41 20z\"/>\n",
              "  </svg>\n",
              "      </button>\n",
              "      \n",
              "  <style>\n",
              "    .colab-df-container {\n",
              "      display:flex;\n",
              "      flex-wrap:wrap;\n",
              "      gap: 12px;\n",
              "    }\n",
              "\n",
              "    .colab-df-convert {\n",
              "      background-color: #E8F0FE;\n",
              "      border: none;\n",
              "      border-radius: 50%;\n",
              "      cursor: pointer;\n",
              "      display: none;\n",
              "      fill: #1967D2;\n",
              "      height: 32px;\n",
              "      padding: 0 0 0 0;\n",
              "      width: 32px;\n",
              "    }\n",
              "\n",
              "    .colab-df-convert:hover {\n",
              "      background-color: #E2EBFA;\n",
              "      box-shadow: 0px 1px 2px rgba(60, 64, 67, 0.3), 0px 1px 3px 1px rgba(60, 64, 67, 0.15);\n",
              "      fill: #174EA6;\n",
              "    }\n",
              "\n",
              "    [theme=dark] .colab-df-convert {\n",
              "      background-color: #3B4455;\n",
              "      fill: #D2E3FC;\n",
              "    }\n",
              "\n",
              "    [theme=dark] .colab-df-convert:hover {\n",
              "      background-color: #434B5C;\n",
              "      box-shadow: 0px 1px 3px 1px rgba(0, 0, 0, 0.15);\n",
              "      filter: drop-shadow(0px 1px 2px rgba(0, 0, 0, 0.3));\n",
              "      fill: #FFFFFF;\n",
              "    }\n",
              "  </style>\n",
              "\n",
              "      <script>\n",
              "        const buttonEl =\n",
              "          document.querySelector('#df-b4669f79-7d44-4dec-ae0a-c6e125275d71 button.colab-df-convert');\n",
              "        buttonEl.style.display =\n",
              "          google.colab.kernel.accessAllowed ? 'block' : 'none';\n",
              "\n",
              "        async function convertToInteractive(key) {\n",
              "          const element = document.querySelector('#df-b4669f79-7d44-4dec-ae0a-c6e125275d71');\n",
              "          const dataTable =\n",
              "            await google.colab.kernel.invokeFunction('convertToInteractive',\n",
              "                                                     [key], {});\n",
              "          if (!dataTable) return;\n",
              "\n",
              "          const docLinkHtml = 'Like what you see? Visit the ' +\n",
              "            '<a target=\"_blank\" href=https://colab.research.google.com/notebooks/data_table.ipynb>data table notebook</a>'\n",
              "            + ' to learn more about interactive tables.';\n",
              "          element.innerHTML = '';\n",
              "          dataTable['output_type'] = 'display_data';\n",
              "          await google.colab.output.renderOutput(dataTable, element);\n",
              "          const docLink = document.createElement('div');\n",
              "          docLink.innerHTML = docLinkHtml;\n",
              "          element.appendChild(docLink);\n",
              "        }\n",
              "      </script>\n",
              "    </div>\n",
              "  </div>\n",
              "  "
            ]
          },
          "metadata": {},
          "execution_count": 196
        }
      ],
      "source": [
        "data_frame2"
      ]
    },
    {
      "cell_type": "code",
      "execution_count": 197,
      "metadata": {
        "id": "KHtb73XqF78W"
      },
      "outputs": [],
      "source": [
        "# Convierto las variables numéricas a catgóricas porque considero \n",
        "# que la categoría del producto no debería ser numérica.\n",
        "data_frame2['Product_Category_2'] = data_frame2['Product_Category_2'].fillna(0).astype(int).astype(str)\n",
        "data_frame2['Product_Category_3'] = data_frame2['Product_Category_3'].fillna(0).astype(int).astype(str)"
      ]
    },
    {
      "cell_type": "code",
      "execution_count": 198,
      "metadata": {
        "colab": {
          "base_uri": "https://localhost:8080/"
        },
        "id": "JRuBRaLBF78W",
        "outputId": "5b9c6780-3884-4924-cf17-beb1744baba9"
      },
      "outputs": [
        {
          "output_type": "execute_result",
          "data": {
            "text/plain": [
              "User_ID                       0\n",
              "Product_ID                    0\n",
              "Gender                        0\n",
              "Age                           0\n",
              "Occupation                    0\n",
              "City_Category                 0\n",
              "Stay_In_Current_City_Years    0\n",
              "Marital_Status                0\n",
              "Product_Category_1            0\n",
              "Product_Category_2            0\n",
              "Product_Category_3            0\n",
              "Label                         0\n",
              "dtype: int64"
            ]
          },
          "metadata": {},
          "execution_count": 198
        }
      ],
      "source": [
        "# Chequeo que no haya NaNs.\n",
        "data_frame2.isna().sum()"
      ]
    },
    {
      "cell_type": "code",
      "execution_count": 199,
      "metadata": {
        "colab": {
          "base_uri": "https://localhost:8080/"
        },
        "id": "Hr-iKaA1F78X",
        "outputId": "b006115e-29ef-4794-b72e-d9df13b2e592"
      },
      "outputs": [
        {
          "output_type": "execute_result",
          "data": {
            "text/plain": [
              "[5891, 3631, 2, 7, 21, 3, 5, 2, 20, 18, 16, 2]"
            ]
          },
          "metadata": {},
          "execution_count": 199
        }
      ],
      "source": [
        "# Calculo los valores únicos de cada columna.\n",
        "[len(np.unique(data_frame2.iloc[:,i])) for i in range(data_frame2.shape[1])]"
      ]
    },
    {
      "cell_type": "code",
      "execution_count": 200,
      "metadata": {
        "id": "dodyCJdFF78X"
      },
      "outputs": [],
      "source": [
        "def str_to_num(x):\n",
        "    if x == \"4+\":\n",
        "        x = 4\n",
        "    return x"
      ]
    },
    {
      "cell_type": "code",
      "execution_count": 201,
      "metadata": {
        "id": "xu-j2dVzF78X"
      },
      "outputs": [],
      "source": [
        "# Convierto en variable numérica la columna.\n",
        "data_frame2['Stay_In_Current_City_Years'] = data_frame2['Stay_In_Current_City_Years'].apply(str_to_num)    \n",
        "data_frame2['Stay_In_Current_City_Years'] = data_frame2['Stay_In_Current_City_Years'].astype(int)"
      ]
    },
    {
      "cell_type": "markdown",
      "metadata": {
        "id": "dk6kgST7F78X"
      },
      "source": [
        "### a) Sin embeddings"
      ]
    },
    {
      "cell_type": "code",
      "execution_count": 202,
      "metadata": {
        "id": "vl2caemPF78X"
      },
      "outputs": [],
      "source": [
        "# Apliqué OHE a las columnas\n",
        "enc = OneHotEncoder(handle_unknown = 'ignore')"
      ]
    },
    {
      "cell_type": "markdown",
      "source": [
        "Opté por aplicar OHE a las columnas categóricas porque tengo muchos datos y asumí que no iba a predecir mal. De esta manera me queda un dataset de 68 columnas y más de 550 mil filas."
      ],
      "metadata": {
        "id": "ReyqmVzfxxgK"
      }
    },
    {
      "cell_type": "code",
      "execution_count": 203,
      "metadata": {
        "id": "XeXDCJ3xF78X"
      },
      "outputs": [],
      "source": [
        "cols_to_OHE = ['Gender', 'Age', 'City_Category', 'Product_Category_1', 'Product_Category_2', 'Product_Category_3']\n",
        "remain_cols = ['Occupation', 'Marital_Status']"
      ]
    },
    {
      "cell_type": "code",
      "execution_count": 204,
      "metadata": {
        "colab": {
          "base_uri": "https://localhost:8080/",
          "height": 540
        },
        "id": "2B4ApQwRF78Y",
        "outputId": "8b68e95e-dc22-4497-d808-8109dc419910"
      },
      "outputs": [
        {
          "output_type": "stream",
          "name": "stderr",
          "text": [
            "/usr/local/lib/python3.7/dist-packages/sklearn/utils/deprecation.py:87: FutureWarning: Function get_feature_names is deprecated; get_feature_names is deprecated in 1.0 and will be removed in 1.2. Please use get_feature_names_out instead.\n",
            "  warnings.warn(msg, category=FutureWarning)\n"
          ]
        },
        {
          "output_type": "execute_result",
          "data": {
            "text/plain": [
              "        Gender_F  Gender_M  Age_0-17  Age_18-25  Age_26-35  Age_36-45  \\\n",
              "0            1.0       0.0       1.0        0.0        0.0        0.0   \n",
              "1            1.0       0.0       1.0        0.0        0.0        0.0   \n",
              "2            1.0       0.0       1.0        0.0        0.0        0.0   \n",
              "3            1.0       0.0       1.0        0.0        0.0        0.0   \n",
              "4            0.0       1.0       0.0        0.0        0.0        0.0   \n",
              "...          ...       ...       ...        ...        ...        ...   \n",
              "550063       0.0       1.0       0.0        0.0        0.0        0.0   \n",
              "550064       1.0       0.0       0.0        0.0        1.0        0.0   \n",
              "550065       1.0       0.0       0.0        0.0        1.0        0.0   \n",
              "550066       1.0       0.0       0.0        0.0        0.0        0.0   \n",
              "550067       1.0       0.0       0.0        0.0        0.0        0.0   \n",
              "\n",
              "        Age_46-50  Age_51-55  Age_55+  City_Category_A  ...  \\\n",
              "0             0.0        0.0      0.0              1.0  ...   \n",
              "1             0.0        0.0      0.0              1.0  ...   \n",
              "2             0.0        0.0      0.0              1.0  ...   \n",
              "3             0.0        0.0      0.0              1.0  ...   \n",
              "4             0.0        0.0      1.0              0.0  ...   \n",
              "...           ...        ...      ...              ...  ...   \n",
              "550063        0.0        1.0      0.0              0.0  ...   \n",
              "550064        0.0        0.0      0.0              0.0  ...   \n",
              "550065        0.0        0.0      0.0              0.0  ...   \n",
              "550066        0.0        0.0      1.0              0.0  ...   \n",
              "550067        1.0        0.0      0.0              0.0  ...   \n",
              "\n",
              "        Product_Category_3_17  Product_Category_3_18  Product_Category_3_3  \\\n",
              "0                         0.0                    0.0                   0.0   \n",
              "1                         0.0                    0.0                   0.0   \n",
              "2                         0.0                    0.0                   0.0   \n",
              "3                         0.0                    0.0                   0.0   \n",
              "4                         0.0                    0.0                   0.0   \n",
              "...                       ...                    ...                   ...   \n",
              "550063                    0.0                    0.0                   0.0   \n",
              "550064                    0.0                    0.0                   0.0   \n",
              "550065                    0.0                    0.0                   0.0   \n",
              "550066                    0.0                    0.0                   0.0   \n",
              "550067                    0.0                    0.0                   0.0   \n",
              "\n",
              "        Product_Category_3_4  Product_Category_3_5  Product_Category_3_6  \\\n",
              "0                        0.0                   0.0                   0.0   \n",
              "1                        0.0                   0.0                   0.0   \n",
              "2                        0.0                   0.0                   0.0   \n",
              "3                        0.0                   0.0                   0.0   \n",
              "4                        0.0                   0.0                   0.0   \n",
              "...                      ...                   ...                   ...   \n",
              "550063                   0.0                   0.0                   0.0   \n",
              "550064                   0.0                   0.0                   0.0   \n",
              "550065                   0.0                   0.0                   0.0   \n",
              "550066                   0.0                   0.0                   0.0   \n",
              "550067                   0.0                   0.0                   0.0   \n",
              "\n",
              "        Product_Category_3_8  Product_Category_3_9  Occupation  Marital_Status  \n",
              "0                        0.0                   0.0        10.0             0.0  \n",
              "1                        0.0                   0.0        10.0             0.0  \n",
              "2                        0.0                   0.0        10.0             0.0  \n",
              "3                        0.0                   0.0        10.0             0.0  \n",
              "4                        0.0                   0.0        16.0             0.0  \n",
              "...                      ...                   ...         ...             ...  \n",
              "550063                   0.0                   0.0        13.0             1.0  \n",
              "550064                   0.0                   0.0         1.0             0.0  \n",
              "550065                   0.0                   0.0        15.0             1.0  \n",
              "550066                   0.0                   0.0         1.0             0.0  \n",
              "550067                   0.0                   0.0         0.0             1.0  \n",
              "\n",
              "[550068 rows x 68 columns]"
            ],
            "text/html": [
              "\n",
              "  <div id=\"df-04aa693e-b789-4c8d-b80e-32d67153307a\">\n",
              "    <div class=\"colab-df-container\">\n",
              "      <div>\n",
              "<style scoped>\n",
              "    .dataframe tbody tr th:only-of-type {\n",
              "        vertical-align: middle;\n",
              "    }\n",
              "\n",
              "    .dataframe tbody tr th {\n",
              "        vertical-align: top;\n",
              "    }\n",
              "\n",
              "    .dataframe thead th {\n",
              "        text-align: right;\n",
              "    }\n",
              "</style>\n",
              "<table border=\"1\" class=\"dataframe\">\n",
              "  <thead>\n",
              "    <tr style=\"text-align: right;\">\n",
              "      <th></th>\n",
              "      <th>Gender_F</th>\n",
              "      <th>Gender_M</th>\n",
              "      <th>Age_0-17</th>\n",
              "      <th>Age_18-25</th>\n",
              "      <th>Age_26-35</th>\n",
              "      <th>Age_36-45</th>\n",
              "      <th>Age_46-50</th>\n",
              "      <th>Age_51-55</th>\n",
              "      <th>Age_55+</th>\n",
              "      <th>City_Category_A</th>\n",
              "      <th>...</th>\n",
              "      <th>Product_Category_3_17</th>\n",
              "      <th>Product_Category_3_18</th>\n",
              "      <th>Product_Category_3_3</th>\n",
              "      <th>Product_Category_3_4</th>\n",
              "      <th>Product_Category_3_5</th>\n",
              "      <th>Product_Category_3_6</th>\n",
              "      <th>Product_Category_3_8</th>\n",
              "      <th>Product_Category_3_9</th>\n",
              "      <th>Occupation</th>\n",
              "      <th>Marital_Status</th>\n",
              "    </tr>\n",
              "  </thead>\n",
              "  <tbody>\n",
              "    <tr>\n",
              "      <th>0</th>\n",
              "      <td>1.0</td>\n",
              "      <td>0.0</td>\n",
              "      <td>1.0</td>\n",
              "      <td>0.0</td>\n",
              "      <td>0.0</td>\n",
              "      <td>0.0</td>\n",
              "      <td>0.0</td>\n",
              "      <td>0.0</td>\n",
              "      <td>0.0</td>\n",
              "      <td>1.0</td>\n",
              "      <td>...</td>\n",
              "      <td>0.0</td>\n",
              "      <td>0.0</td>\n",
              "      <td>0.0</td>\n",
              "      <td>0.0</td>\n",
              "      <td>0.0</td>\n",
              "      <td>0.0</td>\n",
              "      <td>0.0</td>\n",
              "      <td>0.0</td>\n",
              "      <td>10.0</td>\n",
              "      <td>0.0</td>\n",
              "    </tr>\n",
              "    <tr>\n",
              "      <th>1</th>\n",
              "      <td>1.0</td>\n",
              "      <td>0.0</td>\n",
              "      <td>1.0</td>\n",
              "      <td>0.0</td>\n",
              "      <td>0.0</td>\n",
              "      <td>0.0</td>\n",
              "      <td>0.0</td>\n",
              "      <td>0.0</td>\n",
              "      <td>0.0</td>\n",
              "      <td>1.0</td>\n",
              "      <td>...</td>\n",
              "      <td>0.0</td>\n",
              "      <td>0.0</td>\n",
              "      <td>0.0</td>\n",
              "      <td>0.0</td>\n",
              "      <td>0.0</td>\n",
              "      <td>0.0</td>\n",
              "      <td>0.0</td>\n",
              "      <td>0.0</td>\n",
              "      <td>10.0</td>\n",
              "      <td>0.0</td>\n",
              "    </tr>\n",
              "    <tr>\n",
              "      <th>2</th>\n",
              "      <td>1.0</td>\n",
              "      <td>0.0</td>\n",
              "      <td>1.0</td>\n",
              "      <td>0.0</td>\n",
              "      <td>0.0</td>\n",
              "      <td>0.0</td>\n",
              "      <td>0.0</td>\n",
              "      <td>0.0</td>\n",
              "      <td>0.0</td>\n",
              "      <td>1.0</td>\n",
              "      <td>...</td>\n",
              "      <td>0.0</td>\n",
              "      <td>0.0</td>\n",
              "      <td>0.0</td>\n",
              "      <td>0.0</td>\n",
              "      <td>0.0</td>\n",
              "      <td>0.0</td>\n",
              "      <td>0.0</td>\n",
              "      <td>0.0</td>\n",
              "      <td>10.0</td>\n",
              "      <td>0.0</td>\n",
              "    </tr>\n",
              "    <tr>\n",
              "      <th>3</th>\n",
              "      <td>1.0</td>\n",
              "      <td>0.0</td>\n",
              "      <td>1.0</td>\n",
              "      <td>0.0</td>\n",
              "      <td>0.0</td>\n",
              "      <td>0.0</td>\n",
              "      <td>0.0</td>\n",
              "      <td>0.0</td>\n",
              "      <td>0.0</td>\n",
              "      <td>1.0</td>\n",
              "      <td>...</td>\n",
              "      <td>0.0</td>\n",
              "      <td>0.0</td>\n",
              "      <td>0.0</td>\n",
              "      <td>0.0</td>\n",
              "      <td>0.0</td>\n",
              "      <td>0.0</td>\n",
              "      <td>0.0</td>\n",
              "      <td>0.0</td>\n",
              "      <td>10.0</td>\n",
              "      <td>0.0</td>\n",
              "    </tr>\n",
              "    <tr>\n",
              "      <th>4</th>\n",
              "      <td>0.0</td>\n",
              "      <td>1.0</td>\n",
              "      <td>0.0</td>\n",
              "      <td>0.0</td>\n",
              "      <td>0.0</td>\n",
              "      <td>0.0</td>\n",
              "      <td>0.0</td>\n",
              "      <td>0.0</td>\n",
              "      <td>1.0</td>\n",
              "      <td>0.0</td>\n",
              "      <td>...</td>\n",
              "      <td>0.0</td>\n",
              "      <td>0.0</td>\n",
              "      <td>0.0</td>\n",
              "      <td>0.0</td>\n",
              "      <td>0.0</td>\n",
              "      <td>0.0</td>\n",
              "      <td>0.0</td>\n",
              "      <td>0.0</td>\n",
              "      <td>16.0</td>\n",
              "      <td>0.0</td>\n",
              "    </tr>\n",
              "    <tr>\n",
              "      <th>...</th>\n",
              "      <td>...</td>\n",
              "      <td>...</td>\n",
              "      <td>...</td>\n",
              "      <td>...</td>\n",
              "      <td>...</td>\n",
              "      <td>...</td>\n",
              "      <td>...</td>\n",
              "      <td>...</td>\n",
              "      <td>...</td>\n",
              "      <td>...</td>\n",
              "      <td>...</td>\n",
              "      <td>...</td>\n",
              "      <td>...</td>\n",
              "      <td>...</td>\n",
              "      <td>...</td>\n",
              "      <td>...</td>\n",
              "      <td>...</td>\n",
              "      <td>...</td>\n",
              "      <td>...</td>\n",
              "      <td>...</td>\n",
              "      <td>...</td>\n",
              "    </tr>\n",
              "    <tr>\n",
              "      <th>550063</th>\n",
              "      <td>0.0</td>\n",
              "      <td>1.0</td>\n",
              "      <td>0.0</td>\n",
              "      <td>0.0</td>\n",
              "      <td>0.0</td>\n",
              "      <td>0.0</td>\n",
              "      <td>0.0</td>\n",
              "      <td>1.0</td>\n",
              "      <td>0.0</td>\n",
              "      <td>0.0</td>\n",
              "      <td>...</td>\n",
              "      <td>0.0</td>\n",
              "      <td>0.0</td>\n",
              "      <td>0.0</td>\n",
              "      <td>0.0</td>\n",
              "      <td>0.0</td>\n",
              "      <td>0.0</td>\n",
              "      <td>0.0</td>\n",
              "      <td>0.0</td>\n",
              "      <td>13.0</td>\n",
              "      <td>1.0</td>\n",
              "    </tr>\n",
              "    <tr>\n",
              "      <th>550064</th>\n",
              "      <td>1.0</td>\n",
              "      <td>0.0</td>\n",
              "      <td>0.0</td>\n",
              "      <td>0.0</td>\n",
              "      <td>1.0</td>\n",
              "      <td>0.0</td>\n",
              "      <td>0.0</td>\n",
              "      <td>0.0</td>\n",
              "      <td>0.0</td>\n",
              "      <td>0.0</td>\n",
              "      <td>...</td>\n",
              "      <td>0.0</td>\n",
              "      <td>0.0</td>\n",
              "      <td>0.0</td>\n",
              "      <td>0.0</td>\n",
              "      <td>0.0</td>\n",
              "      <td>0.0</td>\n",
              "      <td>0.0</td>\n",
              "      <td>0.0</td>\n",
              "      <td>1.0</td>\n",
              "      <td>0.0</td>\n",
              "    </tr>\n",
              "    <tr>\n",
              "      <th>550065</th>\n",
              "      <td>1.0</td>\n",
              "      <td>0.0</td>\n",
              "      <td>0.0</td>\n",
              "      <td>0.0</td>\n",
              "      <td>1.0</td>\n",
              "      <td>0.0</td>\n",
              "      <td>0.0</td>\n",
              "      <td>0.0</td>\n",
              "      <td>0.0</td>\n",
              "      <td>0.0</td>\n",
              "      <td>...</td>\n",
              "      <td>0.0</td>\n",
              "      <td>0.0</td>\n",
              "      <td>0.0</td>\n",
              "      <td>0.0</td>\n",
              "      <td>0.0</td>\n",
              "      <td>0.0</td>\n",
              "      <td>0.0</td>\n",
              "      <td>0.0</td>\n",
              "      <td>15.0</td>\n",
              "      <td>1.0</td>\n",
              "    </tr>\n",
              "    <tr>\n",
              "      <th>550066</th>\n",
              "      <td>1.0</td>\n",
              "      <td>0.0</td>\n",
              "      <td>0.0</td>\n",
              "      <td>0.0</td>\n",
              "      <td>0.0</td>\n",
              "      <td>0.0</td>\n",
              "      <td>0.0</td>\n",
              "      <td>0.0</td>\n",
              "      <td>1.0</td>\n",
              "      <td>0.0</td>\n",
              "      <td>...</td>\n",
              "      <td>0.0</td>\n",
              "      <td>0.0</td>\n",
              "      <td>0.0</td>\n",
              "      <td>0.0</td>\n",
              "      <td>0.0</td>\n",
              "      <td>0.0</td>\n",
              "      <td>0.0</td>\n",
              "      <td>0.0</td>\n",
              "      <td>1.0</td>\n",
              "      <td>0.0</td>\n",
              "    </tr>\n",
              "    <tr>\n",
              "      <th>550067</th>\n",
              "      <td>1.0</td>\n",
              "      <td>0.0</td>\n",
              "      <td>0.0</td>\n",
              "      <td>0.0</td>\n",
              "      <td>0.0</td>\n",
              "      <td>0.0</td>\n",
              "      <td>1.0</td>\n",
              "      <td>0.0</td>\n",
              "      <td>0.0</td>\n",
              "      <td>0.0</td>\n",
              "      <td>...</td>\n",
              "      <td>0.0</td>\n",
              "      <td>0.0</td>\n",
              "      <td>0.0</td>\n",
              "      <td>0.0</td>\n",
              "      <td>0.0</td>\n",
              "      <td>0.0</td>\n",
              "      <td>0.0</td>\n",
              "      <td>0.0</td>\n",
              "      <td>0.0</td>\n",
              "      <td>1.0</td>\n",
              "    </tr>\n",
              "  </tbody>\n",
              "</table>\n",
              "<p>550068 rows × 68 columns</p>\n",
              "</div>\n",
              "      <button class=\"colab-df-convert\" onclick=\"convertToInteractive('df-04aa693e-b789-4c8d-b80e-32d67153307a')\"\n",
              "              title=\"Convert this dataframe to an interactive table.\"\n",
              "              style=\"display:none;\">\n",
              "        \n",
              "  <svg xmlns=\"http://www.w3.org/2000/svg\" height=\"24px\"viewBox=\"0 0 24 24\"\n",
              "       width=\"24px\">\n",
              "    <path d=\"M0 0h24v24H0V0z\" fill=\"none\"/>\n",
              "    <path d=\"M18.56 5.44l.94 2.06.94-2.06 2.06-.94-2.06-.94-.94-2.06-.94 2.06-2.06.94zm-11 1L8.5 8.5l.94-2.06 2.06-.94-2.06-.94L8.5 2.5l-.94 2.06-2.06.94zm10 10l.94 2.06.94-2.06 2.06-.94-2.06-.94-.94-2.06-.94 2.06-2.06.94z\"/><path d=\"M17.41 7.96l-1.37-1.37c-.4-.4-.92-.59-1.43-.59-.52 0-1.04.2-1.43.59L10.3 9.45l-7.72 7.72c-.78.78-.78 2.05 0 2.83L4 21.41c.39.39.9.59 1.41.59.51 0 1.02-.2 1.41-.59l7.78-7.78 2.81-2.81c.8-.78.8-2.07 0-2.86zM5.41 20L4 18.59l7.72-7.72 1.47 1.35L5.41 20z\"/>\n",
              "  </svg>\n",
              "      </button>\n",
              "      \n",
              "  <style>\n",
              "    .colab-df-container {\n",
              "      display:flex;\n",
              "      flex-wrap:wrap;\n",
              "      gap: 12px;\n",
              "    }\n",
              "\n",
              "    .colab-df-convert {\n",
              "      background-color: #E8F0FE;\n",
              "      border: none;\n",
              "      border-radius: 50%;\n",
              "      cursor: pointer;\n",
              "      display: none;\n",
              "      fill: #1967D2;\n",
              "      height: 32px;\n",
              "      padding: 0 0 0 0;\n",
              "      width: 32px;\n",
              "    }\n",
              "\n",
              "    .colab-df-convert:hover {\n",
              "      background-color: #E2EBFA;\n",
              "      box-shadow: 0px 1px 2px rgba(60, 64, 67, 0.3), 0px 1px 3px 1px rgba(60, 64, 67, 0.15);\n",
              "      fill: #174EA6;\n",
              "    }\n",
              "\n",
              "    [theme=dark] .colab-df-convert {\n",
              "      background-color: #3B4455;\n",
              "      fill: #D2E3FC;\n",
              "    }\n",
              "\n",
              "    [theme=dark] .colab-df-convert:hover {\n",
              "      background-color: #434B5C;\n",
              "      box-shadow: 0px 1px 3px 1px rgba(0, 0, 0, 0.15);\n",
              "      filter: drop-shadow(0px 1px 2px rgba(0, 0, 0, 0.3));\n",
              "      fill: #FFFFFF;\n",
              "    }\n",
              "  </style>\n",
              "\n",
              "      <script>\n",
              "        const buttonEl =\n",
              "          document.querySelector('#df-04aa693e-b789-4c8d-b80e-32d67153307a button.colab-df-convert');\n",
              "        buttonEl.style.display =\n",
              "          google.colab.kernel.accessAllowed ? 'block' : 'none';\n",
              "\n",
              "        async function convertToInteractive(key) {\n",
              "          const element = document.querySelector('#df-04aa693e-b789-4c8d-b80e-32d67153307a');\n",
              "          const dataTable =\n",
              "            await google.colab.kernel.invokeFunction('convertToInteractive',\n",
              "                                                     [key], {});\n",
              "          if (!dataTable) return;\n",
              "\n",
              "          const docLinkHtml = 'Like what you see? Visit the ' +\n",
              "            '<a target=\"_blank\" href=https://colab.research.google.com/notebooks/data_table.ipynb>data table notebook</a>'\n",
              "            + ' to learn more about interactive tables.';\n",
              "          element.innerHTML = '';\n",
              "          dataTable['output_type'] = 'display_data';\n",
              "          await google.colab.output.renderOutput(dataTable, element);\n",
              "          const docLink = document.createElement('div');\n",
              "          docLink.innerHTML = docLinkHtml;\n",
              "          element.appendChild(docLink);\n",
              "        }\n",
              "      </script>\n",
              "    </div>\n",
              "  </div>\n",
              "  "
            ]
          },
          "metadata": {},
          "execution_count": 204
        }
      ],
      "source": [
        "X = enc.fit_transform(data_frame2[cols_to_OHE]).toarray()\n",
        "X = np.hstack([X, data_frame2[remain_cols]])\n",
        "X = pd.DataFrame(X, columns = np.concatenate((enc.get_feature_names(cols_to_OHE),remain_cols), axis = None))\n",
        "X"
      ]
    },
    {
      "cell_type": "code",
      "execution_count": 205,
      "metadata": {
        "id": "kwlBJ5r3F78Y"
      },
      "outputs": [],
      "source": [
        "class MyDataset(Dataset):\n",
        "    \n",
        "    def __init__(self, X, y):\n",
        "        self.X = X\n",
        "        self.y = y\n",
        "        \n",
        "    def __len__(self):\n",
        "        return self.X.shape[0]\n",
        "    \n",
        "    def __getitem__(self, idx):\n",
        "        return self.X[idx], self.y[idx]"
      ]
    },
    {
      "cell_type": "code",
      "execution_count": 206,
      "metadata": {
        "id": "nOwuwEDYF78Y"
      },
      "outputs": [],
      "source": [
        "X = np.array(X)\n",
        "y = np.array(data_frame2['Label'])"
      ]
    },
    {
      "cell_type": "code",
      "execution_count": 207,
      "metadata": {
        "id": "WA5w3p_QF78Y"
      },
      "outputs": [],
      "source": [
        "X_train, X_test, y_train, y_test = train_test_split(X, y, test_size = 0.30, random_state = 42)"
      ]
    },
    {
      "cell_type": "code",
      "execution_count": 208,
      "metadata": {
        "id": "V1-sRg0yF78Y"
      },
      "outputs": [],
      "source": [
        "X_train = X_train.reshape(-1, 68)\n",
        "X_test = X_test.reshape(-1, 68)\n",
        "y_train = y_train.reshape(-1, 1)\n",
        "y_test = y_test.reshape(-1, 1)"
      ]
    },
    {
      "cell_type": "code",
      "execution_count": 209,
      "metadata": {
        "id": "BYA_BkxEF78Y"
      },
      "outputs": [],
      "source": [
        "train_ds = MyDataset(X_train, y_train)\n",
        "test_ds = MyDataset(X_test, y_test)"
      ]
    },
    {
      "cell_type": "code",
      "execution_count": 210,
      "metadata": {
        "id": "APKA3gz5F78Y"
      },
      "outputs": [],
      "source": [
        "train_dataloader = DataLoader(train_ds, batch_size = 64, shuffle = True)\n",
        "test_dataloader = DataLoader(test_ds, batch_size = 64, shuffle = True)"
      ]
    },
    {
      "cell_type": "code",
      "execution_count": 211,
      "metadata": {
        "id": "pDJheCJMF78Y"
      },
      "outputs": [],
      "source": [
        "class NNet(torch.nn.Module):\n",
        "\n",
        "    def __init__(self):\n",
        "        super().__init__()\n",
        "        self.linear_1 = torch.nn.Linear(in_features = 68, out_features = 100, bias = True)\n",
        "        self.relu_1 = torch.nn.ReLU()\n",
        "        self.linear_2 = torch.nn.Linear(in_features = 100, out_features = 50, bias = True)\n",
        "        self.relu_2 = torch.nn.ReLU()\n",
        "        self.linear_3 = torch.nn.Linear(in_features = 50, out_features = 1, bias = True)\n",
        "        self.output = torch.nn.Sigmoid()\n",
        "   \n",
        "\n",
        "    def forward(self, x):\n",
        "        x = self.linear_1(x)\n",
        "        x = self.relu_1(x)\n",
        "        x = self.linear_2(x)\n",
        "        x = self.relu_2(x)\n",
        "        x = self.linear_3(x)\n",
        "        x = self.output(x)\n",
        "        return x"
      ]
    },
    {
      "cell_type": "code",
      "execution_count": 212,
      "metadata": {
        "colab": {
          "base_uri": "https://localhost:8080/"
        },
        "id": "bg5YjqDGF78Z",
        "outputId": "a4dce6c9-009f-4d4a-94bb-b2f7ecc06cf4"
      },
      "outputs": [
        {
          "output_type": "stream",
          "name": "stdout",
          "text": [
            "Epoch: 0 | Training loss: 0.6126583944896177 | Accuracy: 6.059834808903109e-06\n",
            "Epoch: 1 | Training loss: 0.6103164241239055 | Accuracy: 0.07248774398409899\n",
            "Epoch: 2 | Training loss: 0.6100859007813729 | Accuracy: 0.16865126256658244\n",
            "Epoch: 3 | Training loss: 0.6098899341619483 | Accuracy: 0.1931148156901243\n",
            "Epoch: 4 | Training loss: 0.6097793557875612 | Accuracy: 0.2544403439562238\n",
            "Epoch: 5 | Training loss: 0.6097131413357133 | Accuracy: 0.2172935565776477\n",
            "Epoch: 6 | Training loss: 0.6096008403651573 | Accuracy: 0.24959853594391018\n",
            "Epoch: 7 | Training loss: 0.6095578776402364 | Accuracy: 0.21230025269511152\n",
            "Epoch: 8 | Training loss: 0.6094824498747295 | Accuracy: 0.23876961114040032\n",
            "Epoch: 9 | Training loss: 0.6094332944178198 | Accuracy: 0.28628477587700957\n",
            "Epoch: 10 | Training loss: 0.6093930863136462 | Accuracy: 0.25248301731294803\n",
            "Epoch: 11 | Training loss: 0.6092995366605912 | Accuracy: 0.2587125274965004\n",
            "Epoch: 12 | Training loss: 0.609261314173579 | Accuracy: 0.27397119154531846\n",
            "Epoch: 13 | Training loss: 0.6092175664574973 | Accuracy: 0.24948945891734992\n",
            "Epoch: 14 | Training loss: 0.6091771545470391 | Accuracy: 0.27316523351573435\n",
            "Epoch: 15 | Training loss: 0.6091163966631379 | Accuracy: 0.3414474521424546\n",
            "Epoch: 16 | Training loss: 0.6090726644367994 | Accuracy: 0.2975924276304228\n",
            "Epoch: 17 | Training loss: 0.6090871643547574 | Accuracy: 0.3539004126747505\n",
            "Epoch: 18 | Training loss: 0.6090341218664036 | Accuracy: 0.33109725428884806\n",
            "Epoch: 19 | Training loss: 0.6089659218840816 | Accuracy: 0.38778094909132776\n",
            "Epoch: 20 | Training loss: 0.6089785485288605 | Accuracy: 0.31272989498306275\n",
            "Epoch: 21 | Training loss: 0.6088866310969757 | Accuracy: 0.34896164730549445\n",
            "Epoch: 22 | Training loss: 0.6088828596243662 | Accuracy: 0.46388641445634193\n",
            "Epoch: 23 | Training loss: 0.6088544577386082 | Accuracy: 0.45248180534598625\n",
            "Epoch: 24 | Training loss: 0.6087848764075329 | Accuracy: 0.5431429939219857\n",
            "Epoch: 25 | Training loss: 0.6087747118616563 | Accuracy: 0.38357542373394904\n",
            "Epoch: 26 | Training loss: 0.6087195145528632 | Accuracy: 0.48962253288975344\n",
            "Epoch: 27 | Training loss: 0.6087507841092312 | Accuracy: 0.4722429266578193\n",
            "Epoch: 28 | Training loss: 0.6086878556649933 | Accuracy: 0.48988310578653627\n",
            "Epoch: 29 | Training loss: 0.6086140098322416 | Accuracy: 0.5541112949261003\n",
            "Epoch: 30 | Training loss: 0.6086969285381483 | Accuracy: 0.4954945128195805\n",
            "Epoch: 31 | Training loss: 0.6086056700742204 | Accuracy: 0.6829858018070427\n",
            "Epoch: 32 | Training loss: 0.608639430053876 | Accuracy: 0.7011895455729876\n",
            "Epoch: 33 | Training loss: 0.6085479149491251 | Accuracy: 0.5409614533907806\n",
            "Epoch: 34 | Training loss: 0.6085191830357367 | Accuracy: 0.6201513746735264\n",
            "Epoch: 35 | Training loss: 0.6084897794064367 | Accuracy: 0.6397185812714745\n",
            "Epoch: 36 | Training loss: 0.608479894124235 | Accuracy: 0.6144854291272019\n",
            "Epoch: 37 | Training loss: 0.6084185574727886 | Accuracy: 0.7376273322789221\n",
            "Epoch: 38 | Training loss: 0.6083495104214476 | Accuracy: 0.6515291993140268\n",
            "Epoch: 39 | Training loss: 0.6082986672537277 | Accuracy: 0.7425842771526048\n",
            "Epoch: 40 | Training loss: 0.6082715507417388 | Accuracy: 0.732131062107247\n",
            "Epoch: 41 | Training loss: 0.6081576771263292 | Accuracy: 0.6898576544803389\n",
            "Epoch: 42 | Training loss: 0.6081620950616649 | Accuracy: 0.6555286902879027\n",
            "Epoch: 43 | Training loss: 0.6080912075444903 | Accuracy: 0.6929299907284527\n",
            "Epoch: 44 | Training loss: 0.6081015719833489 | Accuracy: 0.642372788917774\n",
            "Epoch: 45 | Training loss: 0.6080200002312379 | Accuracy: 0.6404154622744984\n",
            "Epoch: 46 | Training loss: 0.6080323951218168 | Accuracy: 0.6695572078705134\n",
            "Epoch: 47 | Training loss: 0.6081015263265008 | Accuracy: 0.7010622890420007\n",
            "Epoch: 48 | Training loss: 0.6079814574082112 | Accuracy: 0.695917489289242\n",
            "Epoch: 49 | Training loss: 0.6080039912150115 | Accuracy: 0.726059107628726\n",
            "Epoch: 50 | Training loss: 0.6079041678518485 | Accuracy: 0.6879245671762988\n",
            "Epoch: 51 | Training loss: 0.6079400148032021 | Accuracy: 0.6822040831166942\n",
            "Epoch: 52 | Training loss: 0.6079320824497013 | Accuracy: 0.7705079959520303\n",
            "Epoch: 53 | Training loss: 0.6079230247393554 | Accuracy: 0.6965052932657055\n",
            "Epoch: 54 | Training loss: 0.6079226718089978 | Accuracy: 0.7591155065112924\n",
            "Epoch: 55 | Training loss: 0.6079183334623111 | Accuracy: 0.7532495864162743\n",
            "Epoch: 56 | Training loss: 0.6079011689667168 | Accuracy: 0.7126062743529611\n",
            "Epoch: 57 | Training loss: 0.6078375575917353 | Accuracy: 0.7084855866829071\n",
            "Epoch: 58 | Training loss: 0.60777878420054 | Accuracy: 0.6847976924149047\n",
            "Epoch: 59 | Training loss: 0.607822741649826 | Accuracy: 0.7076493294792784\n",
            "Epoch: 60 | Training loss: 0.6077726578460885 | Accuracy: 0.7506741566224905\n",
            "Epoch: 61 | Training loss: 0.6077818409579681 | Accuracy: 0.7384999484914041\n",
            "Epoch: 62 | Training loss: 0.6077874464295546 | Accuracy: 0.7504075238908987\n",
            "Epoch: 63 | Training loss: 0.607772666019442 | Accuracy: 0.7821307591155066\n",
            "Epoch: 64 | Training loss: 0.6077766264277863 | Accuracy: 0.731379642590943\n",
            "Epoch: 65 | Training loss: 0.6077307603047936 | Accuracy: 0.6849370686155095\n",
            "Epoch: 66 | Training loss: 0.607747740912318 | Accuracy: 0.746947358215015\n",
            "Epoch: 67 | Training loss: 0.6077461410724883 | Accuracy: 0.7084007489955824\n",
            "Epoch: 68 | Training loss: 0.6077024083656557 | Accuracy: 0.749201616763927\n",
            "Epoch: 69 | Training loss: 0.6076845365356659 | Accuracy: 0.7286163579180831\n",
            "Epoch: 70 | Training loss: 0.6076670426440186 | Accuracy: 0.7450930487634907\n",
            "Epoch: 71 | Training loss: 0.6076734175352893 | Accuracy: 0.7293314184255337\n",
            "Epoch: 72 | Training loss: 0.6077182066827361 | Accuracy: 0.7218535822713473\n",
            "Epoch: 73 | Training loss: 0.6076242865464277 | Accuracy: 0.7648602299101327\n",
            "Epoch: 74 | Training loss: 0.607635222879784 | Accuracy: 0.7690415159282757\n",
            "Epoch: 75 | Training loss: 0.6075789385793718 | Accuracy: 0.7793068760945576\n",
            "Epoch: 76 | Training loss: 0.6076591849008512 | Accuracy: 0.7230897885723635\n",
            "Epoch: 77 | Training loss: 0.6075947987340634 | Accuracy: 0.7633573908775246\n",
            "Epoch: 78 | Training loss: 0.6075876801245903 | Accuracy: 0.7762708988552972\n",
            "Epoch: 79 | Training loss: 0.6075655164518182 | Accuracy: 0.7539101084104447\n",
            "Epoch: 80 | Training loss: 0.6075623392711719 | Accuracy: 0.7696777985832106\n",
            "Epoch: 81 | Training loss: 0.6075749861561462 | Accuracy: 0.781785348531399\n",
            "Epoch: 82 | Training loss: 0.6075380795864774 | Accuracy: 0.7776161821828736\n",
            "Epoch: 83 | Training loss: 0.6075696414814091 | Accuracy: 0.773653050217851\n",
            "Epoch: 84 | Training loss: 0.6076020920105776 | Accuracy: 0.7912689900073324\n",
            "Epoch: 85 | Training loss: 0.6075589426186467 | Accuracy: 0.7756103768611268\n",
            "Epoch: 86 | Training loss: 0.6075322630566126 | Accuracy: 0.7555826228177019\n",
            "Epoch: 87 | Training loss: 0.6074622429378163 | Accuracy: 0.7574126929299907\n",
            "Epoch: 88 | Training loss: 0.6075096845316615 | Accuracy: 0.7594184982517377\n",
            "Epoch: 89 | Training loss: 0.607455609835448 | Accuracy: 0.7909902376061229\n",
            "Epoch: 90 | Training loss: 0.6075045854439061 | Accuracy: 0.794292847576975\n",
            "Epoch: 91 | Training loss: 0.6075164794466149 | Accuracy: 0.794292847576975\n",
            "Epoch: 92 | Training loss: 0.6074251342237781 | Accuracy: 0.7880633373934226\n",
            "Epoch: 93 | Training loss: 0.6074193571043377 | Accuracy: 0.7830215548324153\n",
            "Epoch: 94 | Training loss: 0.6074731056243041 | Accuracy: 0.812872301101072\n",
            "Epoch: 95 | Training loss: 0.6074091614551359 | Accuracy: 0.7893056035292478\n",
            "Epoch: 96 | Training loss: 0.6074680392596838 | Accuracy: 0.7873785760600166\n",
            "Epoch: 97 | Training loss: 0.6074244463246264 | Accuracy: 0.7724956217693506\n",
            "Epoch: 98 | Training loss: 0.6074274881594924 | Accuracy: 0.7787190721180941\n",
            "Epoch: 99 | Training loss: 0.6073665030563639 | Accuracy: 0.7884451069863836\n"
          ]
        }
      ],
      "source": [
        "nnet = NNet()\n",
        "\n",
        "loss_function = torch.nn.BCEWithLogitsLoss(reduction = \"sum\")\n",
        "\n",
        "lr = 0.001\n",
        "ep = 100\n",
        "optimizer = torch.optim.Adam(nnet.parameters(), lr = lr)\n",
        "\n",
        "nnet.to(device)\n",
        "\n",
        "loss_train = []\n",
        "loss_test = []\n",
        "\n",
        "train_loss_by_epoch = []\n",
        "test_loss_by_epoch = []\n",
        "\n",
        "for epoch in range(ep):\n",
        "\n",
        "    ###################################################\n",
        "    #### ENTRENAMIENTO\n",
        "    ###################################################\n",
        "    \n",
        "    nnet.train(True)\n",
        "\n",
        "    train_epoch_loss = 0\n",
        "    \n",
        "    for i, data in enumerate(train_dataloader):\n",
        "        \n",
        "        # obtener datos del batch\n",
        "        X_batch, y_batch = data\n",
        "        X_batch = X_batch.to(device).float()\n",
        "        y_batch = y_batch.to(device).float()\n",
        "        \n",
        "        # forward\n",
        "        optimizer.zero_grad()\n",
        "        nnet_output = nnet(X_batch)\n",
        "        y_batch = y_batch.reshape(-1, 1)\n",
        "        \n",
        "        # backpropagation\n",
        "        loss = loss_function(nnet_output, y_batch)\n",
        "        loss.backward()\n",
        "        \n",
        "        # actualizo parámetros\n",
        "        optimizer.step()\n",
        "\n",
        "        # acumular el loss\n",
        "        train_epoch_loss = train_epoch_loss + loss.item()\n",
        "\n",
        "    # epoch_loss -> tengo acumulado el error de todo el dataset en un epoch\n",
        "    train_loss_by_epoch.append(train_epoch_loss / len(train_ds))\n",
        "        \n",
        "    ###################################################\n",
        "    #### VALIDACIÓN\n",
        "    ###################################################\n",
        "\n",
        "    nnet.train(False)\n",
        "\n",
        "    test_epoch_loss = 0\n",
        "    acc = []\n",
        "\n",
        "    for i, data in enumerate(test_dataloader):\n",
        "\n",
        "        # obtener los datos del batch\n",
        "        X_batch, y_batch = data\n",
        "        X_batch = X_batch.to(device).float()\n",
        "        y_batch = y_batch.to(device).float()\n",
        "\n",
        "        # forward\n",
        "        optimizer.zero_grad()\n",
        "        nnet_output = nnet(X_batch)\n",
        "        y_batch = y_batch.reshape(-1, 1)\n",
        "\n",
        "        # compute loss\n",
        "        loss = loss_function(nnet_output, y_batch)\n",
        "\n",
        "        # acumular el loss\n",
        "        test_epoch_loss = test_epoch_loss + loss.item()\n",
        "        \n",
        "        # accuracy\n",
        "        actual_acc = (y_batch == nnet_output).detach().cpu().numpy()\n",
        "        acc = np.concatenate((acc, actual_acc), axis = None)\n",
        "        \n",
        "    accuracy = np.mean(acc)        \n",
        "\n",
        "    # epoch_loss -> tengo acumulado el error de todo el dataset en un epoch\n",
        "    test_loss_by_epoch.append(test_epoch_loss / len(test_ds))\n",
        "    \n",
        "    print(f\"Epoch: {epoch} | Training loss: {train_epoch_loss / len(train_ds)} | Accuracy: {accuracy}\")"
      ]
    },
    {
      "cell_type": "code",
      "execution_count": 213,
      "metadata": {
        "colab": {
          "base_uri": "https://localhost:8080/",
          "height": 265
        },
        "id": "jQsryiNzF78Z",
        "outputId": "990f03b2-e503-4513-8be1-050ce1ef013a"
      },
      "outputs": [
        {
          "output_type": "display_data",
          "data": {
            "text/plain": [
              "<Figure size 432x288 with 1 Axes>"
            ],
            "image/png": "[encoded data removed]"
          },
          "metadata": {
            "needs_background": "light"
          }
        }
      ],
      "source": [
        "# Grafico el MSE en training y en test\n",
        "x_epoch = np.arange(ep)\n",
        "plt.plot(x_epoch, train_loss_by_epoch)\n",
        "plt.plot(x_epoch, test_loss_by_epoch)\n",
        "plt.show()"
      ]
    },
    {
      "cell_type": "code",
      "execution_count": 214,
      "metadata": {
        "colab": {
          "base_uri": "https://localhost:8080/"
        },
        "id": "jB5Dt48bF78Z",
        "outputId": "a5b3b0a2-7877-4d0e-f3f6-9689fd006965"
      },
      "outputs": [
        {
          "output_type": "stream",
          "name": "stdout",
          "text": [
            "0.6073665030563639\n",
            "0.6107462895946588\n"
          ]
        }
      ],
      "source": [
        "# Muestro los errores en train y test\n",
        "print(train_loss_by_epoch[-1])\n",
        "print(test_loss_by_epoch[-1])"
      ]
    },
    {
      "cell_type": "markdown",
      "metadata": {
        "id": "5HKtInKZF78Z"
      },
      "source": [
        "### b) Con embeddings"
      ]
    },
    {
      "cell_type": "code",
      "execution_count": 215,
      "metadata": {
        "colab": {
          "base_uri": "https://localhost:8080/"
        },
        "id": "WhyAhE6BF78Z",
        "outputId": "778c0036-b124-4228-fad0-68ae5957c36c"
      },
      "outputs": [
        {
          "output_type": "execute_result",
          "data": {
            "text/plain": [
              "array([   0,    0,    0, ..., 5886, 5888, 5889])"
            ]
          },
          "metadata": {},
          "execution_count": 215
        }
      ],
      "source": [
        "# map user_id a user index \n",
        "unique = np.unique(data_frame2['User_ID'])\n",
        "index = np.arange(0, len(unique))\n",
        "user_id_to_index = {key:value for key, value in zip(unique, index)}\n",
        "user_idx = np.array([user_id_to_index[i] for i in data_frame2['User_ID']])\n",
        "user_idx"
      ]
    },
    {
      "cell_type": "code",
      "execution_count": 216,
      "metadata": {
        "colab": {
          "base_uri": "https://localhost:8080/"
        },
        "id": "ZUw91aZsF78a",
        "outputId": "5ff2ba7b-f9fd-412e-f550-7c8bfb8f121d"
      },
      "outputs": [
        {
          "output_type": "execute_result",
          "data": {
            "text/plain": [
              "array([ 672, 2376,  852, ..., 3568, 3568, 3566])"
            ]
          },
          "metadata": {},
          "execution_count": 216
        }
      ],
      "source": [
        "# map product_id a product index \n",
        "unique = np.unique(data_frame2['Product_ID'])\n",
        "index = np.arange(0, len(unique))\n",
        "product_id_to_index = {key:value for key, value in zip(unique, index)}\n",
        "product_idx = np.array([product_id_to_index[i] for i in data_frame2['Product_ID']])\n",
        "product_idx"
      ]
    },
    {
      "cell_type": "code",
      "execution_count": 217,
      "metadata": {
        "id": "vhN72LmXF78a"
      },
      "outputs": [],
      "source": [
        "class MyDatasetWithEmb(Dataset):\n",
        "\n",
        "    def __init__(self, X, user_idx, product_idx, y):\n",
        "        super().__init__()\n",
        "        self.X = X\n",
        "        self.user_idx = user_idx\n",
        "        self.product_idx = product_idx\n",
        "        self.y = y\n",
        "\n",
        "    def __len__(self):\n",
        "        return self.X.shape[0]\n",
        "\n",
        "    def __getitem__(self, idx):\n",
        "        return self.X[idx], self.user_idx[idx], self.product_idx[idx], self.y[idx]"
      ]
    },
    {
      "cell_type": "code",
      "execution_count": 218,
      "metadata": {
        "colab": {
          "base_uri": "https://localhost:8080/"
        },
        "id": "2NscSJFYF78a",
        "outputId": "1bb6cb85-e066-4323-bc5c-5dbafdfb4d22"
      },
      "outputs": [
        {
          "output_type": "stream",
          "name": "stderr",
          "text": [
            "/usr/local/lib/python3.7/dist-packages/sklearn/utils/deprecation.py:87: FutureWarning: Function get_feature_names is deprecated; get_feature_names is deprecated in 1.0 and will be removed in 1.2. Please use get_feature_names_out instead.\n",
            "  warnings.warn(msg, category=FutureWarning)\n"
          ]
        },
        {
          "output_type": "execute_result",
          "data": {
            "text/plain": [
              "(550068, 70)"
            ]
          },
          "metadata": {},
          "execution_count": 218
        }
      ],
      "source": [
        "X = enc.fit_transform(data_frame2[cols_to_OHE]).toarray()\n",
        "X = np.hstack([X, data_frame2[remain_cols]])\n",
        "X = pd.DataFrame(X, columns = np.concatenate((enc.get_feature_names(cols_to_OHE),remain_cols), axis = None))\n",
        "X = np.hstack([user_idx.reshape(-1,1), product_idx.reshape(-1,1), X])\n",
        "X.shape"
      ]
    },
    {
      "cell_type": "code",
      "execution_count": 219,
      "metadata": {
        "id": "F9HEWokkF78a"
      },
      "outputs": [],
      "source": [
        "X_train, X_test, y_train, y_test = train_test_split(X, y, test_size = 0.30, random_state = 42)\n",
        "user_index_train = X_train[:,0]\n",
        "user_index_test = X_test[:,0]\n",
        "product_index_train = X_train[:,1]\n",
        "product_index_test = X_test[:,1]\n",
        "X_train = X_train[:,np.arange(2,70)]\n",
        "X_test = X_test[:,np.arange(2,70)]"
      ]
    },
    {
      "cell_type": "code",
      "execution_count": 220,
      "metadata": {
        "id": "2ptC1kxKF78a"
      },
      "outputs": [],
      "source": [
        "train_ds = MyDatasetWithEmb(X_train, user_index_train, product_index_train, y_train)\n",
        "test_ds = MyDatasetWithEmb(X_test, user_index_test, product_index_test, y_test)"
      ]
    },
    {
      "cell_type": "code",
      "execution_count": 221,
      "metadata": {
        "id": "8Taw1ls5F78a"
      },
      "outputs": [],
      "source": [
        "train_dataloader = DataLoader(train_ds, batch_size = 64, shuffle = True)\n",
        "test_dataloader = DataLoader(test_ds, batch_size = 64, shuffle = True)"
      ]
    },
    {
      "cell_type": "code",
      "execution_count": 222,
      "metadata": {
        "id": "JlT3LPxnF78b"
      },
      "outputs": [],
      "source": [
        "class NNetWithEmb(torch.nn.Module):\n",
        "\n",
        "    def __init__(self, num_users, num_products, d):\n",
        "        super().__init__()\n",
        "        self.embedding_1 = torch.nn.Embedding(num_embeddings = num_users, embedding_dim = d)\n",
        "        self.embedding_2 = torch.nn.Embedding(num_embeddings = num_products, embedding_dim = d)\n",
        "        self.linear_1 = torch.nn.Linear(in_features = 68 + 2*d, out_features = 100, bias = True)\n",
        "        self.relu_1 = torch.nn.ReLU()\n",
        "        self.linear_2 = torch.nn.Linear(in_features = 100, out_features = 50, bias = True)\n",
        "        self.relu_2 = torch.nn.ReLU()\n",
        "        self.linear_3 = torch.nn.Linear(in_features = 50, out_features = 1, bias = True)\n",
        "        self.output = torch.nn.Sigmoid()\n",
        "\n",
        "    def forward(self, x, user_idx, product_idx):\n",
        "        user_emb = self.embedding_1(user_idx)\n",
        "        product_emb = self.embedding_2(product_idx)\n",
        "        final_input = torch.cat([x, user_emb, product_emb], dim = 1)       \n",
        "        x = self.linear_1(final_input)    \n",
        "        x = self.relu_1(x)     \n",
        "        x = self.linear_2(x)   \n",
        "        x = self.relu_2(x)\n",
        "        x = self.linear_3(x)\n",
        "        x = self.output(x)     \n",
        "        return x"
      ]
    },
    {
      "cell_type": "code",
      "execution_count": 223,
      "metadata": {
        "colab": {
          "base_uri": "https://localhost:8080/"
        },
        "id": "RSeYP1VgF78b",
        "outputId": "322400eb-152d-4d8b-80d9-c251fcdc06f1"
      },
      "outputs": [
        {
          "output_type": "stream",
          "name": "stdout",
          "text": [
            "Epoch: 0 | Training loss: 0.6130749537899239 | Accuracy: 0.00044227413726250484\n",
            "Epoch: 1 | Training loss: 0.6080878450070473 | Accuracy: 0.008775287133478627\n",
            "Epoch: 2 | Training loss: 0.6046322507418673 | Accuracy: 0.08636713474883342\n",
            "Epoch: 3 | Training loss: 0.6026173959347804 | Accuracy: 0.13018987912984184\n",
            "Epoch: 4 | Training loss: 0.6010380747789802 | Accuracy: 0.1598126362129133\n",
            "Epoch: 5 | Training loss: 0.5998193779001904 | Accuracy: 0.18549378434571004\n",
            "Epoch: 6 | Training loss: 0.5987364395437388 | Accuracy: 0.20737831089302192\n",
            "Epoch: 7 | Training loss: 0.5977830160180159 | Accuracy: 0.22002647377358237\n",
            "Epoch: 8 | Training loss: 0.5969661185073853 | Accuracy: 0.30877545426588765\n",
            "Epoch: 9 | Training loss: 0.5963725341610107 | Accuracy: 0.30569311481327965\n",
            "Epoch: 10 | Training loss: 0.5959122064412706 | Accuracy: 0.3818745738123571\n",
            "Epoch: 11 | Training loss: 0.5953958770606358 | Accuracy: 0.4307440901980185\n",
            "Epoch: 12 | Training loss: 0.5949847496769466 | Accuracy: 0.4505070797288444\n",
            "Epoch: 13 | Training loss: 0.5946279053158676 | Accuracy: 0.5448896758968326\n",
            "Epoch: 14 | Training loss: 0.5941323784622953 | Accuracy: 0.5251507116497974\n",
            "Epoch: 15 | Training loss: 0.5938390695358367 | Accuracy: 0.571967633137677\n",
            "Epoch: 16 | Training loss: 0.5933724404874843 | Accuracy: 0.6188718813092484\n",
            "Epoch: 17 | Training loss: 0.5930220647412728 | Accuracy: 0.6416169308472945\n",
            "Epoch: 18 | Training loss: 0.5928836184264975 | Accuracy: 0.6604347866053403\n",
            "Epoch: 19 | Training loss: 0.5924174072618952 | Accuracy: 0.6741741152010269\n",
            "Epoch: 20 | Training loss: 0.5921690567604647 | Accuracy: 0.7184286879437365\n",
            "Epoch: 21 | Training loss: 0.5919603853342339 | Accuracy: 0.7037413007581127\n",
            "Epoch: 22 | Training loss: 0.5916353941540214 | Accuracy: 0.7066205743338102\n",
            "Epoch: 23 | Training loss: 0.5913514259117907 | Accuracy: 0.710194909815352\n",
            "Epoch: 24 | Training loss: 0.5911263150778756 | Accuracy: 0.7424240968164618\n",
            "Epoch: 25 | Training loss: 0.5909768633871979 | Accuracy: 0.7576661546843871\n",
            "Epoch: 26 | Training loss: 0.5907788465613052 | Accuracy: 0.7320056891872017\n",
            "Epoch: 27 | Training loss: 0.5903930446874207 | Accuracy: 0.7323512354427671\n",
            "Epoch: 28 | Training loss: 0.5902503060345085 | Accuracy: 0.7538482237167573\n",
            "Epoch: 29 | Training loss: 0.5900051318790516 | Accuracy: 0.7519142928293511\n",
            "Epoch: 30 | Training loss: 0.5898254823245932 | Accuracy: 0.750117201601797\n",
            "Epoch: 31 | Training loss: 0.5895825675292437 | Accuracy: 0.7515131750477998\n",
            "Epoch: 32 | Training loss: 0.5893576163357831 | Accuracy: 0.7629928734740811\n",
            "Epoch: 33 | Training loss: 0.5892594217015393 | Accuracy: 0.7472565215065984\n",
            "Epoch: 34 | Training loss: 0.5890263690305565 | Accuracy: 0.7581485405998047\n",
            "Epoch: 35 | Training loss: 0.5887796049250277 | Accuracy: 0.7719994300784854\n",
            "Epoch: 36 | Training loss: 0.588661902001864 | Accuracy: 0.768523284887219\n",
            "Epoch: 37 | Training loss: 0.5884887558386538 | Accuracy: 0.7696913315104759\n",
            "Epoch: 38 | Training loss: 0.5882979105459365 | Accuracy: 0.7801640571726545\n",
            "Epoch: 39 | Training loss: 0.5882802450163425 | Accuracy: 0.7706291532403632\n",
            "Epoch: 40 | Training loss: 0.5880259059532934 | Accuracy: 0.7671659608107927\n",
            "Epoch: 41 | Training loss: 0.5878547827644236 | Accuracy: 0.7726491573183939\n",
            "Epoch: 42 | Training loss: 0.587664517864015 | Accuracy: 0.7882860655025337\n",
            "Epoch: 43 | Training loss: 0.5875034163483257 | Accuracy: 0.7929912606463344\n",
            "Epoch: 44 | Training loss: 0.5875149182232551 | Accuracy: 0.7916874189407817\n",
            "Epoch: 45 | Training loss: 0.5873597860196985 | Accuracy: 0.7963451902635342\n",
            "Epoch: 46 | Training loss: 0.5872013073925892 | Accuracy: 0.7984305848965785\n",
            "Epoch: 47 | Training loss: 0.5871268479292248 | Accuracy: 0.7982851797007661\n",
            "Epoch: 48 | Training loss: 0.5869937990865733 | Accuracy: 0.8005485703493735\n",
            "Epoch: 49 | Training loss: 0.5869552635873667 | Accuracy: 0.7958206034148495\n",
            "Epoch: 50 | Training loss: 0.586770641238325 | Accuracy: 0.798044091200813\n",
            "Epoch: 51 | Training loss: 0.5867280496084206 | Accuracy: 0.8073402047037745\n",
            "Epoch: 52 | Training loss: 0.5866585802919166 | Accuracy: 0.8032847367998824\n",
            "Epoch: 53 | Training loss: 0.58650385371208 | Accuracy: 0.8010077666430453\n",
            "Epoch: 54 | Training loss: 0.5863908703160424 | Accuracy: 0.8056450642456979\n",
            "Epoch: 55 | Training loss: 0.5862413311382842 | Accuracy: 0.8108942753807277\n",
            "Epoch: 56 | Training loss: 0.5862234722296232 | Accuracy: 0.807462629193352\n",
            "Epoch: 57 | Training loss: 0.5861532476159993 | Accuracy: 0.8108518655319491\n",
            "Epoch: 58 | Training loss: 0.5861079550741872 | Accuracy: 0.8101225414822639\n",
            "Epoch: 59 | Training loss: 0.5860111204265228 | Accuracy: 0.8124112109077295\n",
            "Epoch: 60 | Training loss: 0.5859273292398981 | Accuracy: 0.8135163739621077\n",
            "Epoch: 61 | Training loss: 0.5858036087719088 | Accuracy: 0.8151801770935004\n",
            "Epoch: 62 | Training loss: 0.5856704526403705 | Accuracy: 0.8093347210894358\n",
            "Epoch: 63 | Training loss: 0.5855178248935018 | Accuracy: 0.8083849911754089\n",
            "Epoch: 64 | Training loss: 0.5854757015125426 | Accuracy: 0.8141268250859061\n",
            "Epoch: 65 | Training loss: 0.5854792721906243 | Accuracy: 0.817423094022008\n",
            "Epoch: 66 | Training loss: 0.5853638908366952 | Accuracy: 0.8106375182174326\n",
            "Epoch: 67 | Training loss: 0.5852463299936597 | Accuracy: 0.8165274732253881\n",
            "Epoch: 68 | Training loss: 0.5851936453173845 | Accuracy: 0.8142083021352837\n",
            "Epoch: 69 | Training loss: 0.5851336876964313 | Accuracy: 0.8112928861761441\n",
            "Epoch: 70 | Training loss: 0.5850708859614634 | Accuracy: 0.8150418750250698\n",
            "Epoch: 71 | Training loss: 0.5850883602395391 | Accuracy: 0.8171176595445976\n",
            "Epoch: 72 | Training loss: 0.5850092218805224 | Accuracy: 0.8174703089275447\n",
            "Epoch: 73 | Training loss: 0.584844807350482 | Accuracy: 0.8141500147076519\n",
            "Epoch: 74 | Training loss: 0.5847869374541661 | Accuracy: 0.815823427952561\n",
            "Epoch: 75 | Training loss: 0.5845855953117868 | Accuracy: 0.8141851125135378\n",
            "Epoch: 76 | Training loss: 0.5847353888071543 | Accuracy: 0.8140459747830622\n",
            "Epoch: 77 | Training loss: 0.5845696843584649 | Accuracy: 0.8113244324183392\n",
            "Epoch: 78 | Training loss: 0.5844995500554435 | Accuracy: 0.8147220253773849\n",
            "Epoch: 79 | Training loss: 0.5845240200702448 | Accuracy: 0.8163856195932665\n",
            "Epoch: 80 | Training loss: 0.5844123924205499 | Accuracy: 0.8167104832132209\n",
            "Epoch: 81 | Training loss: 0.5842854200649865 | Accuracy: 0.8199687295262799\n",
            "Epoch: 82 | Training loss: 0.5843046229701754 | Accuracy: 0.8180095198620154\n",
            "Epoch: 83 | Training loss: 0.5841832687771875 | Accuracy: 0.8189145418566405\n",
            "Epoch: 84 | Training loss: 0.5841558431019106 | Accuracy: 0.8177136954981213\n",
            "Epoch: 85 | Training loss: 0.5841863630527849 | Accuracy: 0.8155278125041783\n",
            "Epoch: 86 | Training loss: 0.5841337757508712 | Accuracy: 0.8159046960864276\n",
            "Epoch: 87 | Training loss: 0.5840476537219709 | Accuracy: 0.8140545403190224\n",
            "Epoch: 88 | Training loss: 0.5840097670681468 | Accuracy: 0.8159809502480244\n",
            "Epoch: 89 | Training loss: 0.5839704214905375 | Accuracy: 0.8167261518765626\n",
            "Epoch: 90 | Training loss: 0.5838719435009886 | Accuracy: 0.8197725578612399\n",
            "Epoch: 91 | Training loss: 0.5839163972239151 | Accuracy: 0.8213112206014093\n",
            "Epoch: 92 | Training loss: 0.5838332627414761 | Accuracy: 0.8201310568785013\n",
            "Epoch: 93 | Training loss: 0.5837080668742025 | Accuracy: 0.8193386403444265\n",
            "Epoch: 94 | Training loss: 0.5837274545813907 | Accuracy: 0.8184444819563851\n",
            "Epoch: 95 | Training loss: 0.5837165140102745 | Accuracy: 0.8198076556671257\n",
            "Epoch: 96 | Training loss: 0.5837270014655335 | Accuracy: 0.8235288587530585\n",
            "Epoch: 97 | Training loss: 0.5836436622034377 | Accuracy: 0.8214313470203634\n",
            "Epoch: 98 | Training loss: 0.5834968893442295 | Accuracy: 0.8228429891297081\n",
            "Epoch: 99 | Training loss: 0.583483299687697 | Accuracy: 0.8222431926969822\n"
          ]
        }
      ],
      "source": [
        "user_n = int(len(np.unique(data_frame2['User_ID'])))\n",
        "product_n = int(len(np.unique(data_frame2['Product_ID'])))\n",
        "nnet = NNetWithEmb(user_n, product_n, 8)\n",
        "\n",
        "loss_function = torch.nn.BCEWithLogitsLoss(reduction = \"sum\")\n",
        "\n",
        "lr = 0.001\n",
        "ep = 100\n",
        "optimizer = torch.optim.Adam(nnet.parameters(), lr = lr)\n",
        "\n",
        "nnet.to(device)\n",
        "\n",
        "loss_train = []\n",
        "loss_test = []\n",
        "\n",
        "train_loss_by_epoch = []\n",
        "test_loss_by_epoch = []\n",
        "\n",
        "for epoch in range(ep):\n",
        "\n",
        "    ###################################################\n",
        "    #### ENTRENAMIENTO\n",
        "    ###################################################\n",
        "    \n",
        "    nnet.train(True)\n",
        "\n",
        "    train_epoch_loss = 0\n",
        "    \n",
        "    for i, data in enumerate(train_dataloader):\n",
        "        \n",
        "        # obtener datos del batch\n",
        "        X_batch, user_batch, product_batch, y_batch = data\n",
        "        \n",
        "        X_batch = X_batch.to(device).float()\n",
        "        user_batch = user_batch.to(device).long()\n",
        "        product_batch = product_batch.to(device).long()\n",
        "        y_batch = y_batch.to(device).float()\n",
        "        \n",
        "        # forward\n",
        "        optimizer.zero_grad()\n",
        "        nnet_output = nnet(X_batch, user_batch, product_batch)\n",
        "        y_batch = y_batch.reshape(-1, 1)\n",
        "        \n",
        "        # backpropagation\n",
        "        loss = loss_function(nnet_output, y_batch)\n",
        "        loss.backward()\n",
        "        \n",
        "        # actualizo parámetros\n",
        "        optimizer.step()\n",
        "\n",
        "        # acumular el loss\n",
        "        train_epoch_loss = train_epoch_loss + loss.item()\n",
        "\n",
        "    # epoch_loss -> tengo acumulado el error de todo el dataset en un epoch\n",
        "    train_loss_by_epoch.append(train_epoch_loss / len(train_ds))\n",
        "        \n",
        "    ###################################################\n",
        "    #### VALIDACIÓN\n",
        "    ###################################################\n",
        "\n",
        "    nnet.train(False)\n",
        "\n",
        "    test_epoch_loss = 0\n",
        "    acc = []\n",
        "\n",
        "    for i, data in enumerate(test_dataloader):\n",
        "\n",
        "        # obtener los datos del batch\n",
        "        X_batch, user_batch, product_batch, y_batch = data\n",
        "        X_batch = X_batch.to(device).float()\n",
        "        user_batch = user_batch.to(device).long()\n",
        "        product_batch = product_batch.to(device).long()\n",
        "        y_batch = y_batch.to(device).float()\n",
        "\n",
        "        # forward\n",
        "        optimizer.zero_grad()\n",
        "        nnet_output = nnet(X_batch, user_batch, product_batch)\n",
        "        y_batch = y_batch.reshape(-1, 1)\n",
        "\n",
        "        # compute loss\n",
        "        loss = loss_function(nnet_output, y_batch)\n",
        "\n",
        "        # acumular el loss\n",
        "        test_epoch_loss = test_epoch_loss + loss.item()\n",
        "        \n",
        "        # accuracy\n",
        "        actual_acc = np.mean((y_batch == nnet_output).detach().cpu().numpy())\n",
        "        acc = np.concatenate((acc, actual_acc), axis = None)\n",
        "        \n",
        "    accuracy = np.mean(acc)        \n",
        "\n",
        "    # epoch_loss -> tengo acumulado el error de todo el dataset en un epoch\n",
        "    test_loss_by_epoch.append(test_epoch_loss / len(test_ds))\n",
        "    \n",
        "    print(f\"Epoch: {epoch} | Training loss: {train_epoch_loss / len(train_ds)} | Accuracy: {accuracy}\")"
      ]
    },
    {
      "cell_type": "code",
      "execution_count": 224,
      "metadata": {
        "colab": {
          "base_uri": "https://localhost:8080/",
          "height": 265
        },
        "id": "5uzddqaGF78b",
        "outputId": "6791a23b-468e-45c8-de66-0ecc4fc6eddd"
      },
      "outputs": [
        {
          "output_type": "display_data",
          "data": {
            "text/plain": [
              "<Figure size 432x288 with 1 Axes>"
            ],
            "image/png": "[encoded data removed]"
          },
          "metadata": {
            "needs_background": "light"
          }
        }
      ],
      "source": [
        "# Grafico el MSE en training y en test\n",
        "x_epoch = np.arange(ep)\n",
        "plt.plot(x_epoch, train_loss_by_epoch)\n",
        "plt.plot(x_epoch, test_loss_by_epoch)\n",
        "plt.show()"
      ]
    },
    {
      "cell_type": "markdown",
      "source": [
        "### c) Conclusiones"
      ],
      "metadata": {
        "id": "ed25gPW0iILz"
      }
    },
    {
      "cell_type": "markdown",
      "source": [
        "Se puede ver cómo en ambos modelos el error en training va decreciendo muy lentamente, mientras que el de test va convergiendo a un número fijo. Al ver este comportamiento en ambos modelos, me veo tentado a probar con más configuraciones de neuronas, más cantidad de épocas y diferentes learning rates. EN otras palabras, quiero decir que los modelos son mejorables, a juzgar por la curva de resultados que obtuve. Pero como el entrenamiento tomó mucho tiempo, me voy a quedar con lo que corrí, que en mi opinión es suficiente para sacar algunas conclusiones."
      ],
      "metadata": {
        "id": "yQie_-qClrNn"
      }
    },
    {
      "cell_type": "markdown",
      "source": [
        "Olvidé de guardar en una lista el porcentaje de aciertos, por lo que luego de ejecutar las modeloes, guardé en un csv lo que imprimí en pantalla. No quise correrlo de nuevo porque demoró muchísimo. A continaución muestro esta comparación."
      ],
      "metadata": {
        "id": "oAvzDfq9lSCw"
      }
    },
    {
      "cell_type": "code",
      "execution_count": 245,
      "metadata": {
        "id": "bCfBRt16F78b"
      },
      "outputs": [],
      "source": [
        "accuracy_dataset = pd.read_csv('/content/acc_ds.csv', delimiter = ';')"
      ]
    },
    {
      "cell_type": "code",
      "source": [
        "# Grafico el pocentaje de aciertos de ambos modelos, en función de las épocas.\n",
        "x_epoch = np.arange(ep)\n",
        "plt.plot(x_epoch, accuracy_dataset['sin_embeddings'].astype(float))\n",
        "plt.plot(x_epoch, accuracy_dataset['con_embeddings'].astype(float))\n",
        "plt.legend(['Sin embeddings', 'Con embeddings'])\n",
        "plt.show()"
      ],
      "metadata": {
        "colab": {
          "base_uri": "https://localhost:8080/",
          "height": 265
        },
        "id": "FiTgjliNi3aY",
        "outputId": "d330eb5d-f816-45fc-b8f7-cc98298ecdc2"
      },
      "execution_count": 248,
      "outputs": [
        {
          "output_type": "display_data",
          "data": {
            "text/plain": [
              "<Figure size 432x288 with 1 Axes>"
            ],
            "image/png": "[encoded data removed]"
          },
          "metadata": {
            "needs_background": "light"
          }
        }
      ]
    },
    {
      "cell_type": "markdown",
      "source": [
        "NOTA: se utilizaron las mismas configuraciones para ambos modelos, para poder comprarlos. Esto es misma cantidad de capas ocultas y neuronas, mismas épocas y mismos learning rates. Lógicamente, la cantidad de parámetros no es la misma, puesto que el modelo de embeddings tiene muchos más."
      ],
      "metadata": {
        "id": "9hfDcaZXlikn"
      }
    },
    {
      "cell_type": "markdown",
      "source": [
        "La gráfica anterior muestra la precisión de mabos modelos en función de la cantidad de épocas. Podemos ver cómo el modelo con embeddings aprende mucho más rápido y luego baja su velocidad, pero se mantiene con una tendencia estrictamente creciente. Por otro lado, el modelo sin embeddings también muestra una tendencia creciente, pero a velocidad más lenta, además de que presenta mayor variabilidad. El resultao final fue mejor en el modelo con embeddings, alcanzando 82% vs 78%."
      ],
      "metadata": {
        "id": "NxaW2ZnmnCvx"
      }
    },
    {
      "cell_type": "markdown",
      "source": [
        "Estuve intentando extraer los vectores de embeddings finales para poder graficarlos en un plano XY y agruparlos a ver si notaba una lógica con los clústers. Pero tuve problemas para desacoplarlos del cuda, y me saltaron muchos errores. La idea era graficarlos en los ejes de sus dos componentes principales. Esperaba ver un agrupamiento de los datos correspondientes al label 1 y label 0 (los que gastaron más y menos de 9000), pero posiblemente podía sacar alguna conclusión más.\n",
        "\n",
        "Intenté hacer lo siguiente para conseguir el vector de embeddings:\n",
        "nnet.embeddings_1(torch.LongTensor([np.arange(0, user_n)]).cuda())\n",
        "\n",
        "pero arrojaba un error.\n",
        "Por favor, si pueden darme una observación acá y decir cómo conseguir el embedding fiteado, sería genial, porque el tema me encantó y quiero seguir trabajando con este tema."
      ],
      "metadata": {
        "id": "cQ4pgk9qyOsQ"
      }
    },
    {
      "cell_type": "markdown",
      "metadata": {
        "id": "ydum234dbd47"
      },
      "source": [
        "## **PUNTO 4 (ítem d)**"
      ]
    },
    {
      "cell_type": "markdown",
      "metadata": {
        "id": "pGfy7G32-HsK"
      },
      "source": [
        "Los ítems a, b y c están adjuntos en el github."
      ]
    },
    {
      "cell_type": "code",
      "execution_count": 225,
      "metadata": {
        "id": "3Syo5rOgbgw3"
      },
      "outputs": [],
      "source": [
        "# Creo la función\n",
        "def func(a, b, c):\n",
        "    res = a * torch.log(b) + b * c ** 2\n",
        "    return res"
      ]
    },
    {
      "cell_type": "code",
      "execution_count": 226,
      "metadata": {
        "id": "JpO1eeJP7hZP"
      },
      "outputs": [],
      "source": [
        "# Creo los tensores con los valores iniciales\n",
        "a = torch.tensor([2.], requires_grad = True)\n",
        "b = torch.tensor([10.], requires_grad = True)\n",
        "c = torch.tensor([0.5], requires_grad = True)"
      ]
    },
    {
      "cell_type": "code",
      "execution_count": 227,
      "metadata": {
        "id": "JjmmtF7I6JGI",
        "colab": {
          "base_uri": "https://localhost:8080/"
        },
        "outputId": "b4cd27c3-f72d-41a3-8b9c-74669e58a1aa"
      },
      "outputs": [
        {
          "output_type": "execute_result",
          "data": {
            "text/plain": [
              "tensor([7.1052], grad_fn=<AddBackward0>)"
            ]
          },
          "metadata": {},
          "execution_count": 227
        }
      ],
      "source": [
        "# Hago la pasada forward\n",
        "f = func(a, b, c)\n",
        "f"
      ]
    },
    {
      "cell_type": "code",
      "execution_count": 228,
      "metadata": {
        "id": "axIW9bKtbg2Y",
        "colab": {
          "base_uri": "https://localhost:8080/"
        },
        "outputId": "6b15649c-d4bb-4d38-8bd7-f5b645256517"
      },
      "outputs": [
        {
          "output_type": "stream",
          "name": "stdout",
          "text": [
            "Gradiente df/da = tensor([2.3026])\n",
            "Gradiente df/db = tensor([0.4500])\n",
            "Gradiente df/dc = tensor([10.])\n"
          ]
        }
      ],
      "source": [
        "# Hago al pasada backward y muestro las derivadas\n",
        "f.backward()\n",
        "grad_a = a.grad\n",
        "grad_b = b.grad\n",
        "grad_c = c.grad\n",
        "\n",
        "print(\"Gradiente df/da = \" + str(grad_a))\n",
        "print(\"Gradiente df/db = \" + str(grad_b))\n",
        "print(\"Gradiente df/dc = \" + str(grad_c))"
      ]
    }
  ],
  "metadata": {
    "accelerator": "GPU",
    "colab": {
      "collapsed_sections": [],
      "provenance": []
    },
    "kernelspec": {
      "display_name": "Python 3 (ipykernel)",
      "language": "python",
      "name": "python3"
    },
    "language_info": {
      "codemirror_mode": {
        "name": "ipython",
        "version": 3
      },
      "file_extension": ".py",
      "mimetype": "text/x-python",
      "name": "python",
      "nbconvert_exporter": "python",
      "pygments_lexer": "ipython3",
      "version": "3.9.7"
    }
  },
  "nbformat": 4,
  "nbformat_minor": 0
}